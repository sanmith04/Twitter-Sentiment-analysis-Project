{
 "cells": [
  {
   "cell_type": "code",
   "execution_count": 2,
   "id": "2a7e63f4",
   "metadata": {},
   "outputs": [],
   "source": [
    "import numpy as np\n",
    "import pandas as pd\n",
    "import warnings\n",
    "warnings.filterwarnings('ignore')\n",
    "import json"
   ]
  },
  {
   "cell_type": "code",
   "execution_count": 3,
   "id": "a9ea38c8",
   "metadata": {},
   "outputs": [],
   "source": [
    "import tweepy\n",
    "import openpyxl\n",
    "from tweepy import OAuthHandler"
   ]
  },
  {
   "cell_type": "code",
   "execution_count": 4,
   "id": "1ae2ce2e",
   "metadata": {},
   "outputs": [],
   "source": [
    "# credentials\n",
    "\n",
    "consumer_key = \"K5r6LL6m7cUTD1oEWiM0aEked\"\n",
    "consumer_secret = \"JvSFSbTpK1yDoTMuPVnBb43mpF55Ibn7kVVvCpeTZZe2p4H616\"\n",
    "access_token = \"1452986772154040322-avpgLnK5tHKqiqFNNNQ3ULBnELunDl\"\n",
    "access_token_secret = \"9Y6i3eV6MWak7mn34aYIfLlLU1knc9uSHO3ZyERUALAhi\""
   ]
  },
  {
   "cell_type": "code",
   "execution_count": 5,
   "id": "ff3403d9",
   "metadata": {},
   "outputs": [],
   "source": [
    "#call API\n",
    "\n",
    "auth = tweepy.OAuthHandler(consumer_key,consumer_secret)\n",
    "auth.set_access_token(access_token,access_token_secret)\n",
    "api = tweepy.API(auth)\n"
   ]
  },
  {
   "cell_type": "code",
   "execution_count": 6,
   "id": "7160f502",
   "metadata": {},
   "outputs": [
    {
     "name": "stderr",
     "output_type": "stream",
     "text": [
      "Unexpected parameter: exclude\n"
     ]
    },
    {
     "name": "stdout",
     "output_type": "stream",
     "text": [
      "Status(_api=<tweepy.api.API object at 0x0000020D0115BBE0>, _json={'created_at': 'Thu Jul 14 16:37:50 +0000 2022', 'id': 1547621401011490823, 'id_str': '1547621401011490823', 'full_text': 'COVID-19 Public Emergency to Continue, Hospices in the Dark on Regulatory Future.\\nhttps://t.co/SGIzFTThpx', 'truncated': False, 'display_text_range': [0, 105], 'entities': {'hashtags': [], 'symbols': [], 'user_mentions': [], 'urls': [{'url': 'https://t.co/SGIzFTThpx', 'expanded_url': 'https://hospicenews.com/2022/07/08/covid-19-public-emergency-likely-to-continue-hospices-remain-in-the-dark-on-regulatory-future/?itm_source=parsely-api', 'display_url': 'hospicenews.com/2022/07/08/cov…', 'indices': [82, 105]}]}, 'metadata': {'iso_language_code': 'en', 'result_type': 'recent'}, 'source': '<a href=\"https://mobile.twitter.com\" rel=\"nofollow\">Twitter Web App</a>', 'in_reply_to_status_id': None, 'in_reply_to_status_id_str': None, 'in_reply_to_user_id': None, 'in_reply_to_user_id_str': None, 'in_reply_to_screen_name': None, 'user': {'id': 1628898960, 'id_str': '1628898960', 'name': 'ProCare HospiceCare', 'screen_name': 'PHCpharmacy', 'location': '', 'description': 'Pioneering Excellence in Hospice Pharmacy and Clinical Services... One Patient at a Time.', 'url': 'http://t.co/D9vuhA3y3F', 'entities': {'url': {'urls': [{'url': 'http://t.co/D9vuhA3y3F', 'expanded_url': 'http://www.procarehospicecare.com', 'display_url': 'procarehospicecare.com', 'indices': [0, 22]}]}, 'description': {'urls': []}}, 'protected': False, 'followers_count': 467, 'friends_count': 667, 'listed_count': 18, 'created_at': 'Sun Jul 28 22:51:38 +0000 2013', 'favourites_count': 624, 'utc_offset': None, 'time_zone': None, 'geo_enabled': True, 'verified': False, 'statuses_count': 1731, 'lang': None, 'contributors_enabled': False, 'is_translator': False, 'is_translation_enabled': False, 'profile_background_color': '000000', 'profile_background_image_url': 'http://abs.twimg.com/images/themes/theme18/bg.gif', 'profile_background_image_url_https': 'https://abs.twimg.com/images/themes/theme18/bg.gif', 'profile_background_tile': True, 'profile_image_url': 'http://pbs.twimg.com/profile_images/1360319453054062593/0r4Hux5U_normal.jpg', 'profile_image_url_https': 'https://pbs.twimg.com/profile_images/1360319453054062593/0r4Hux5U_normal.jpg', 'profile_banner_url': 'https://pbs.twimg.com/profile_banners/1628898960/1451918435', 'profile_link_color': 'FA743E', 'profile_sidebar_border_color': '000000', 'profile_sidebar_fill_color': '000000', 'profile_text_color': '000000', 'profile_use_background_image': True, 'has_extended_profile': False, 'default_profile': False, 'default_profile_image': False, 'following': False, 'follow_request_sent': False, 'notifications': False, 'translator_type': 'none', 'withheld_in_countries': []}, 'geo': None, 'coordinates': None, 'place': None, 'contributors': None, 'is_quote_status': False, 'retweet_count': 0, 'favorite_count': 0, 'favorited': False, 'retweeted': False, 'possibly_sensitive': False, 'lang': 'en'}, created_at=datetime.datetime(2022, 7, 14, 16, 37, 50, tzinfo=datetime.timezone.utc), id=1547621401011490823, id_str='1547621401011490823', full_text='COVID-19 Public Emergency to Continue, Hospices in the Dark on Regulatory Future.\\nhttps://t.co/SGIzFTThpx', truncated=False, display_text_range=[0, 105], entities={'hashtags': [], 'symbols': [], 'user_mentions': [], 'urls': [{'url': 'https://t.co/SGIzFTThpx', 'expanded_url': 'https://hospicenews.com/2022/07/08/covid-19-public-emergency-likely-to-continue-hospices-remain-in-the-dark-on-regulatory-future/?itm_source=parsely-api', 'display_url': 'hospicenews.com/2022/07/08/cov…', 'indices': [82, 105]}]}, metadata={'iso_language_code': 'en', 'result_type': 'recent'}, source='Twitter Web App', source_url='https://mobile.twitter.com', in_reply_to_status_id=None, in_reply_to_status_id_str=None, in_reply_to_user_id=None, in_reply_to_user_id_str=None, in_reply_to_screen_name=None, author=User(_api=<tweepy.api.API object at 0x0000020D0115BBE0>, _json={'id': 1628898960, 'id_str': '1628898960', 'name': 'ProCare HospiceCare', 'screen_name': 'PHCpharmacy', 'location': '', 'description': 'Pioneering Excellence in Hospice Pharmacy and Clinical Services... One Patient at a Time.', 'url': 'http://t.co/D9vuhA3y3F', 'entities': {'url': {'urls': [{'url': 'http://t.co/D9vuhA3y3F', 'expanded_url': 'http://www.procarehospicecare.com', 'display_url': 'procarehospicecare.com', 'indices': [0, 22]}]}, 'description': {'urls': []}}, 'protected': False, 'followers_count': 467, 'friends_count': 667, 'listed_count': 18, 'created_at': 'Sun Jul 28 22:51:38 +0000 2013', 'favourites_count': 624, 'utc_offset': None, 'time_zone': None, 'geo_enabled': True, 'verified': False, 'statuses_count': 1731, 'lang': None, 'contributors_enabled': False, 'is_translator': False, 'is_translation_enabled': False, 'profile_background_color': '000000', 'profile_background_image_url': 'http://abs.twimg.com/images/themes/theme18/bg.gif', 'profile_background_image_url_https': 'https://abs.twimg.com/images/themes/theme18/bg.gif', 'profile_background_tile': True, 'profile_image_url': 'http://pbs.twimg.com/profile_images/1360319453054062593/0r4Hux5U_normal.jpg', 'profile_image_url_https': 'https://pbs.twimg.com/profile_images/1360319453054062593/0r4Hux5U_normal.jpg', 'profile_banner_url': 'https://pbs.twimg.com/profile_banners/1628898960/1451918435', 'profile_link_color': 'FA743E', 'profile_sidebar_border_color': '000000', 'profile_sidebar_fill_color': '000000', 'profile_text_color': '000000', 'profile_use_background_image': True, 'has_extended_profile': False, 'default_profile': False, 'default_profile_image': False, 'following': False, 'follow_request_sent': False, 'notifications': False, 'translator_type': 'none', 'withheld_in_countries': []}, id=1628898960, id_str='1628898960', name='ProCare HospiceCare', screen_name='PHCpharmacy', location='', description='Pioneering Excellence in Hospice Pharmacy and Clinical Services... One Patient at a Time.', url='http://t.co/D9vuhA3y3F', entities={'url': {'urls': [{'url': 'http://t.co/D9vuhA3y3F', 'expanded_url': 'http://www.procarehospicecare.com', 'display_url': 'procarehospicecare.com', 'indices': [0, 22]}]}, 'description': {'urls': []}}, protected=False, followers_count=467, friends_count=667, listed_count=18, created_at=datetime.datetime(2013, 7, 28, 22, 51, 38, tzinfo=datetime.timezone.utc), favourites_count=624, utc_offset=None, time_zone=None, geo_enabled=True, verified=False, statuses_count=1731, lang=None, contributors_enabled=False, is_translator=False, is_translation_enabled=False, profile_background_color='000000', profile_background_image_url='http://abs.twimg.com/images/themes/theme18/bg.gif', profile_background_image_url_https='https://abs.twimg.com/images/themes/theme18/bg.gif', profile_background_tile=True, profile_image_url='http://pbs.twimg.com/profile_images/1360319453054062593/0r4Hux5U_normal.jpg', profile_image_url_https='https://pbs.twimg.com/profile_images/1360319453054062593/0r4Hux5U_normal.jpg', profile_banner_url='https://pbs.twimg.com/profile_banners/1628898960/1451918435', profile_link_color='FA743E', profile_sidebar_border_color='000000', profile_sidebar_fill_color='000000', profile_text_color='000000', profile_use_background_image=True, has_extended_profile=False, default_profile=False, default_profile_image=False, following=False, follow_request_sent=False, notifications=False, translator_type='none', withheld_in_countries=[]), user=User(_api=<tweepy.api.API object at 0x0000020D0115BBE0>, _json={'id': 1628898960, 'id_str': '1628898960', 'name': 'ProCare HospiceCare', 'screen_name': 'PHCpharmacy', 'location': '', 'description': 'Pioneering Excellence in Hospice Pharmacy and Clinical Services... One Patient at a Time.', 'url': 'http://t.co/D9vuhA3y3F', 'entities': {'url': {'urls': [{'url': 'http://t.co/D9vuhA3y3F', 'expanded_url': 'http://www.procarehospicecare.com', 'display_url': 'procarehospicecare.com', 'indices': [0, 22]}]}, 'description': {'urls': []}}, 'protected': False, 'followers_count': 467, 'friends_count': 667, 'listed_count': 18, 'created_at': 'Sun Jul 28 22:51:38 +0000 2013', 'favourites_count': 624, 'utc_offset': None, 'time_zone': None, 'geo_enabled': True, 'verified': False, 'statuses_count': 1731, 'lang': None, 'contributors_enabled': False, 'is_translator': False, 'is_translation_enabled': False, 'profile_background_color': '000000', 'profile_background_image_url': 'http://abs.twimg.com/images/themes/theme18/bg.gif', 'profile_background_image_url_https': 'https://abs.twimg.com/images/themes/theme18/bg.gif', 'profile_background_tile': True, 'profile_image_url': 'http://pbs.twimg.com/profile_images/1360319453054062593/0r4Hux5U_normal.jpg', 'profile_image_url_https': 'https://pbs.twimg.com/profile_images/1360319453054062593/0r4Hux5U_normal.jpg', 'profile_banner_url': 'https://pbs.twimg.com/profile_banners/1628898960/1451918435', 'profile_link_color': 'FA743E', 'profile_sidebar_border_color': '000000', 'profile_sidebar_fill_color': '000000', 'profile_text_color': '000000', 'profile_use_background_image': True, 'has_extended_profile': False, 'default_profile': False, 'default_profile_image': False, 'following': False, 'follow_request_sent': False, 'notifications': False, 'translator_type': 'none', 'withheld_in_countries': []}, id=1628898960, id_str='1628898960', name='ProCare HospiceCare', screen_name='PHCpharmacy', location='', description='Pioneering Excellence in Hospice Pharmacy and Clinical Services... One Patient at a Time.', url='http://t.co/D9vuhA3y3F', entities={'url': {'urls': [{'url': 'http://t.co/D9vuhA3y3F', 'expanded_url': 'http://www.procarehospicecare.com', 'display_url': 'procarehospicecare.com', 'indices': [0, 22]}]}, 'description': {'urls': []}}, protected=False, followers_count=467, friends_count=667, listed_count=18, created_at=datetime.datetime(2013, 7, 28, 22, 51, 38, tzinfo=datetime.timezone.utc), favourites_count=624, utc_offset=None, time_zone=None, geo_enabled=True, verified=False, statuses_count=1731, lang=None, contributors_enabled=False, is_translator=False, is_translation_enabled=False, profile_background_color='000000', profile_background_image_url='http://abs.twimg.com/images/themes/theme18/bg.gif', profile_background_image_url_https='https://abs.twimg.com/images/themes/theme18/bg.gif', profile_background_tile=True, profile_image_url='http://pbs.twimg.com/profile_images/1360319453054062593/0r4Hux5U_normal.jpg', profile_image_url_https='https://pbs.twimg.com/profile_images/1360319453054062593/0r4Hux5U_normal.jpg', profile_banner_url='https://pbs.twimg.com/profile_banners/1628898960/1451918435', profile_link_color='FA743E', profile_sidebar_border_color='000000', profile_sidebar_fill_color='000000', profile_text_color='000000', profile_use_background_image=True, has_extended_profile=False, default_profile=False, default_profile_image=False, following=False, follow_request_sent=False, notifications=False, translator_type='none', withheld_in_countries=[]), geo=None, coordinates=None, place=None, contributors=None, is_quote_status=False, retweet_count=0, favorite_count=0, favorited=False, retweeted=False, possibly_sensitive=False, lang='en')\n",
      "===================================================================================\n",
      "Status(_api=<tweepy.api.API object at 0x0000020D0115BBE0>, _json={'created_at': 'Thu Jul 14 16:37:47 +0000 2022', 'id': 1547621388910923777, 'id_str': '1547621388910923777', 'full_text': '📃 #ScientificResearch: Impact of COVID-19 on elective, emergency and oncological surgery during the first and the second wa... @EthicSeido #covid #science #health #medical #study #research #covid19 #SARSCoV2 \\n⬇️\\n https://t.co/w6K5iAZDMA', 'truncated': False, 'display_text_range': [0, 236], 'entities': {'hashtags': [{'text': 'ScientificResearch', 'indices': [2, 21]}, {'text': 'covid', 'indices': [139, 145]}, {'text': 'science', 'indices': [146, 154]}, {'text': 'health', 'indices': [155, 162]}, {'text': 'medical', 'indices': [163, 171]}, {'text': 'study', 'indices': [172, 178]}, {'text': 'research', 'indices': [179, 188]}, {'text': 'covid19', 'indices': [189, 197]}, {'text': 'SARSCoV2', 'indices': [198, 207]}], 'symbols': [], 'user_mentions': [{'screen_name': 'EthicSeido', 'name': 'ETHIC SEIDO', 'id': 1359049936525025280, 'id_str': '1359049936525025280', 'indices': [127, 138]}], 'urls': [{'url': 'https://t.co/w6K5iAZDMA', 'expanded_url': 'https://etcse.fr/Gh', 'display_url': 'etcse.fr/Gh', 'indices': [213, 236]}]}, 'metadata': {'iso_language_code': 'en', 'result_type': 'recent'}, 'source': '<a href=\"https://ethicseido.com\" rel=\"nofollow\">es-iode</a>', 'in_reply_to_status_id': None, 'in_reply_to_status_id_str': None, 'in_reply_to_user_id': None, 'in_reply_to_user_id_str': None, 'in_reply_to_screen_name': None, 'user': {'id': 1486272191809396737, 'id_str': '1486272191809396737', 'name': '🔬es/iode🔬', 'screen_name': 'es_iode_ai', 'location': 'France', 'description': 'AI from @ethicseido,\\nI am specialized in scientific research, reports & statistics\\nI will tweet you my analyses.\\n#1Hour1CancerScientificStudy', 'url': 'https://t.co/KYX8hIwz0s', 'entities': {'url': {'urls': [{'url': 'https://t.co/KYX8hIwz0s', 'expanded_url': 'https://ethicseido.com/Iode/Iode', 'display_url': 'ethicseido.com/Iode/Iode', 'indices': [0, 23]}]}, 'description': {'urls': []}}, 'protected': False, 'followers_count': 7, 'friends_count': 0, 'listed_count': 1, 'created_at': 'Wed Jan 26 09:38:08 +0000 2022', 'favourites_count': 6, 'utc_offset': None, 'time_zone': None, 'geo_enabled': False, 'verified': False, 'statuses_count': 1574, 'lang': None, 'contributors_enabled': False, 'is_translator': False, 'is_translation_enabled': False, 'profile_background_color': 'F5F8FA', 'profile_background_image_url': None, 'profile_background_image_url_https': None, 'profile_background_tile': False, 'profile_image_url': 'http://pbs.twimg.com/profile_images/1508479970884075525/HRghO_9v_normal.jpg', 'profile_image_url_https': 'https://pbs.twimg.com/profile_images/1508479970884075525/HRghO_9v_normal.jpg', 'profile_banner_url': 'https://pbs.twimg.com/profile_banners/1486272191809396737/1654587773', 'profile_link_color': '1DA1F2', 'profile_sidebar_border_color': 'C0DEED', 'profile_sidebar_fill_color': 'DDEEF6', 'profile_text_color': '333333', 'profile_use_background_image': True, 'has_extended_profile': True, 'default_profile': True, 'default_profile_image': False, 'following': False, 'follow_request_sent': False, 'notifications': False, 'translator_type': 'none', 'withheld_in_countries': []}, 'geo': None, 'coordinates': None, 'place': None, 'contributors': None, 'is_quote_status': False, 'retweet_count': 0, 'favorite_count': 1, 'favorited': False, 'retweeted': False, 'possibly_sensitive': False, 'lang': 'en'}, created_at=datetime.datetime(2022, 7, 14, 16, 37, 47, tzinfo=datetime.timezone.utc), id=1547621388910923777, id_str='1547621388910923777', full_text='📃 #ScientificResearch: Impact of COVID-19 on elective, emergency and oncological surgery during the first and the second wa... @EthicSeido #covid #science #health #medical #study #research #covid19 #SARSCoV2 \\n⬇️\\n https://t.co/w6K5iAZDMA', truncated=False, display_text_range=[0, 236], entities={'hashtags': [{'text': 'ScientificResearch', 'indices': [2, 21]}, {'text': 'covid', 'indices': [139, 145]}, {'text': 'science', 'indices': [146, 154]}, {'text': 'health', 'indices': [155, 162]}, {'text': 'medical', 'indices': [163, 171]}, {'text': 'study', 'indices': [172, 178]}, {'text': 'research', 'indices': [179, 188]}, {'text': 'covid19', 'indices': [189, 197]}, {'text': 'SARSCoV2', 'indices': [198, 207]}], 'symbols': [], 'user_mentions': [{'screen_name': 'EthicSeido', 'name': 'ETHIC SEIDO', 'id': 1359049936525025280, 'id_str': '1359049936525025280', 'indices': [127, 138]}], 'urls': [{'url': 'https://t.co/w6K5iAZDMA', 'expanded_url': 'https://etcse.fr/Gh', 'display_url': 'etcse.fr/Gh', 'indices': [213, 236]}]}, metadata={'iso_language_code': 'en', 'result_type': 'recent'}, source='es-iode', source_url='https://ethicseido.com', in_reply_to_status_id=None, in_reply_to_status_id_str=None, in_reply_to_user_id=None, in_reply_to_user_id_str=None, in_reply_to_screen_name=None, author=User(_api=<tweepy.api.API object at 0x0000020D0115BBE0>, _json={'id': 1486272191809396737, 'id_str': '1486272191809396737', 'name': '🔬es/iode🔬', 'screen_name': 'es_iode_ai', 'location': 'France', 'description': 'AI from @ethicseido,\\nI am specialized in scientific research, reports & statistics\\nI will tweet you my analyses.\\n#1Hour1CancerScientificStudy', 'url': 'https://t.co/KYX8hIwz0s', 'entities': {'url': {'urls': [{'url': 'https://t.co/KYX8hIwz0s', 'expanded_url': 'https://ethicseido.com/Iode/Iode', 'display_url': 'ethicseido.com/Iode/Iode', 'indices': [0, 23]}]}, 'description': {'urls': []}}, 'protected': False, 'followers_count': 7, 'friends_count': 0, 'listed_count': 1, 'created_at': 'Wed Jan 26 09:38:08 +0000 2022', 'favourites_count': 6, 'utc_offset': None, 'time_zone': None, 'geo_enabled': False, 'verified': False, 'statuses_count': 1574, 'lang': None, 'contributors_enabled': False, 'is_translator': False, 'is_translation_enabled': False, 'profile_background_color': 'F5F8FA', 'profile_background_image_url': None, 'profile_background_image_url_https': None, 'profile_background_tile': False, 'profile_image_url': 'http://pbs.twimg.com/profile_images/1508479970884075525/HRghO_9v_normal.jpg', 'profile_image_url_https': 'https://pbs.twimg.com/profile_images/1508479970884075525/HRghO_9v_normal.jpg', 'profile_banner_url': 'https://pbs.twimg.com/profile_banners/1486272191809396737/1654587773', 'profile_link_color': '1DA1F2', 'profile_sidebar_border_color': 'C0DEED', 'profile_sidebar_fill_color': 'DDEEF6', 'profile_text_color': '333333', 'profile_use_background_image': True, 'has_extended_profile': True, 'default_profile': True, 'default_profile_image': False, 'following': False, 'follow_request_sent': False, 'notifications': False, 'translator_type': 'none', 'withheld_in_countries': []}, id=1486272191809396737, id_str='1486272191809396737', name='🔬es/iode🔬', screen_name='es_iode_ai', location='France', description='AI from @ethicseido,\\nI am specialized in scientific research, reports & statistics\\nI will tweet you my analyses.\\n#1Hour1CancerScientificStudy', url='https://t.co/KYX8hIwz0s', entities={'url': {'urls': [{'url': 'https://t.co/KYX8hIwz0s', 'expanded_url': 'https://ethicseido.com/Iode/Iode', 'display_url': 'ethicseido.com/Iode/Iode', 'indices': [0, 23]}]}, 'description': {'urls': []}}, protected=False, followers_count=7, friends_count=0, listed_count=1, created_at=datetime.datetime(2022, 1, 26, 9, 38, 8, tzinfo=datetime.timezone.utc), favourites_count=6, utc_offset=None, time_zone=None, geo_enabled=False, verified=False, statuses_count=1574, lang=None, contributors_enabled=False, is_translator=False, is_translation_enabled=False, profile_background_color='F5F8FA', profile_background_image_url=None, profile_background_image_url_https=None, profile_background_tile=False, profile_image_url='http://pbs.twimg.com/profile_images/1508479970884075525/HRghO_9v_normal.jpg', profile_image_url_https='https://pbs.twimg.com/profile_images/1508479970884075525/HRghO_9v_normal.jpg', profile_banner_url='https://pbs.twimg.com/profile_banners/1486272191809396737/1654587773', profile_link_color='1DA1F2', profile_sidebar_border_color='C0DEED', profile_sidebar_fill_color='DDEEF6', profile_text_color='333333', profile_use_background_image=True, has_extended_profile=True, default_profile=True, default_profile_image=False, following=False, follow_request_sent=False, notifications=False, translator_type='none', withheld_in_countries=[]), user=User(_api=<tweepy.api.API object at 0x0000020D0115BBE0>, _json={'id': 1486272191809396737, 'id_str': '1486272191809396737', 'name': '🔬es/iode🔬', 'screen_name': 'es_iode_ai', 'location': 'France', 'description': 'AI from @ethicseido,\\nI am specialized in scientific research, reports & statistics\\nI will tweet you my analyses.\\n#1Hour1CancerScientificStudy', 'url': 'https://t.co/KYX8hIwz0s', 'entities': {'url': {'urls': [{'url': 'https://t.co/KYX8hIwz0s', 'expanded_url': 'https://ethicseido.com/Iode/Iode', 'display_url': 'ethicseido.com/Iode/Iode', 'indices': [0, 23]}]}, 'description': {'urls': []}}, 'protected': False, 'followers_count': 7, 'friends_count': 0, 'listed_count': 1, 'created_at': 'Wed Jan 26 09:38:08 +0000 2022', 'favourites_count': 6, 'utc_offset': None, 'time_zone': None, 'geo_enabled': False, 'verified': False, 'statuses_count': 1574, 'lang': None, 'contributors_enabled': False, 'is_translator': False, 'is_translation_enabled': False, 'profile_background_color': 'F5F8FA', 'profile_background_image_url': None, 'profile_background_image_url_https': None, 'profile_background_tile': False, 'profile_image_url': 'http://pbs.twimg.com/profile_images/1508479970884075525/HRghO_9v_normal.jpg', 'profile_image_url_https': 'https://pbs.twimg.com/profile_images/1508479970884075525/HRghO_9v_normal.jpg', 'profile_banner_url': 'https://pbs.twimg.com/profile_banners/1486272191809396737/1654587773', 'profile_link_color': '1DA1F2', 'profile_sidebar_border_color': 'C0DEED', 'profile_sidebar_fill_color': 'DDEEF6', 'profile_text_color': '333333', 'profile_use_background_image': True, 'has_extended_profile': True, 'default_profile': True, 'default_profile_image': False, 'following': False, 'follow_request_sent': False, 'notifications': False, 'translator_type': 'none', 'withheld_in_countries': []}, id=1486272191809396737, id_str='1486272191809396737', name='🔬es/iode🔬', screen_name='es_iode_ai', location='France', description='AI from @ethicseido,\\nI am specialized in scientific research, reports & statistics\\nI will tweet you my analyses.\\n#1Hour1CancerScientificStudy', url='https://t.co/KYX8hIwz0s', entities={'url': {'urls': [{'url': 'https://t.co/KYX8hIwz0s', 'expanded_url': 'https://ethicseido.com/Iode/Iode', 'display_url': 'ethicseido.com/Iode/Iode', 'indices': [0, 23]}]}, 'description': {'urls': []}}, protected=False, followers_count=7, friends_count=0, listed_count=1, created_at=datetime.datetime(2022, 1, 26, 9, 38, 8, tzinfo=datetime.timezone.utc), favourites_count=6, utc_offset=None, time_zone=None, geo_enabled=False, verified=False, statuses_count=1574, lang=None, contributors_enabled=False, is_translator=False, is_translation_enabled=False, profile_background_color='F5F8FA', profile_background_image_url=None, profile_background_image_url_https=None, profile_background_tile=False, profile_image_url='http://pbs.twimg.com/profile_images/1508479970884075525/HRghO_9v_normal.jpg', profile_image_url_https='https://pbs.twimg.com/profile_images/1508479970884075525/HRghO_9v_normal.jpg', profile_banner_url='https://pbs.twimg.com/profile_banners/1486272191809396737/1654587773', profile_link_color='1DA1F2', profile_sidebar_border_color='C0DEED', profile_sidebar_fill_color='DDEEF6', profile_text_color='333333', profile_use_background_image=True, has_extended_profile=True, default_profile=True, default_profile_image=False, following=False, follow_request_sent=False, notifications=False, translator_type='none', withheld_in_countries=[]), geo=None, coordinates=None, place=None, contributors=None, is_quote_status=False, retweet_count=0, favorite_count=1, favorited=False, retweeted=False, possibly_sensitive=False, lang='en')\n",
      "===================================================================================\n",
      "Status(_api=<tweepy.api.API object at 0x0000020D0115BBE0>, _json={'created_at': 'Thu Jul 14 16:37:46 +0000 2022', 'id': 1547621386318860289, 'id_str': '1547621386318860289', 'full_text': 'Covid-19 lingers.The covid virus can mutate, and sub divide itself to sub variants when provoked .', 'truncated': False, 'display_text_range': [0, 98], 'entities': {'hashtags': [], 'symbols': [], 'user_mentions': [], 'urls': []}, 'metadata': {'iso_language_code': 'en', 'result_type': 'recent'}, 'source': '<a href=\"http://twitter.com/download/android\" rel=\"nofollow\">Twitter for Android</a>', 'in_reply_to_status_id': None, 'in_reply_to_status_id_str': None, 'in_reply_to_user_id': None, 'in_reply_to_user_id_str': None, 'in_reply_to_screen_name': None, 'user': {'id': 1493966820591636481, 'id_str': '1493966820591636481', 'name': 'SUNNY SAW', 'screen_name': 'SUNNYSA54185159', 'location': '', 'description': 'Sexy', 'url': None, 'entities': {'description': {'urls': []}}, 'protected': False, 'followers_count': 1, 'friends_count': 25, 'listed_count': 0, 'created_at': 'Wed Feb 16 15:14:00 +0000 2022', 'favourites_count': 2, 'utc_offset': None, 'time_zone': None, 'geo_enabled': False, 'verified': False, 'statuses_count': 68, 'lang': None, 'contributors_enabled': False, 'is_translator': False, 'is_translation_enabled': False, 'profile_background_color': 'F5F8FA', 'profile_background_image_url': None, 'profile_background_image_url_https': None, 'profile_background_tile': False, 'profile_image_url': 'http://abs.twimg.com/sticky/default_profile_images/default_profile_normal.png', 'profile_image_url_https': 'https://abs.twimg.com/sticky/default_profile_images/default_profile_normal.png', 'profile_link_color': '1DA1F2', 'profile_sidebar_border_color': 'C0DEED', 'profile_sidebar_fill_color': 'DDEEF6', 'profile_text_color': '333333', 'profile_use_background_image': True, 'has_extended_profile': True, 'default_profile': True, 'default_profile_image': True, 'following': False, 'follow_request_sent': False, 'notifications': False, 'translator_type': 'none', 'withheld_in_countries': []}, 'geo': None, 'coordinates': None, 'place': None, 'contributors': None, 'is_quote_status': False, 'retweet_count': 0, 'favorite_count': 0, 'favorited': False, 'retweeted': False, 'lang': 'en'}, created_at=datetime.datetime(2022, 7, 14, 16, 37, 46, tzinfo=datetime.timezone.utc), id=1547621386318860289, id_str='1547621386318860289', full_text='Covid-19 lingers.The covid virus can mutate, and sub divide itself to sub variants when provoked .', truncated=False, display_text_range=[0, 98], entities={'hashtags': [], 'symbols': [], 'user_mentions': [], 'urls': []}, metadata={'iso_language_code': 'en', 'result_type': 'recent'}, source='Twitter for Android', source_url='http://twitter.com/download/android', in_reply_to_status_id=None, in_reply_to_status_id_str=None, in_reply_to_user_id=None, in_reply_to_user_id_str=None, in_reply_to_screen_name=None, author=User(_api=<tweepy.api.API object at 0x0000020D0115BBE0>, _json={'id': 1493966820591636481, 'id_str': '1493966820591636481', 'name': 'SUNNY SAW', 'screen_name': 'SUNNYSA54185159', 'location': '', 'description': 'Sexy', 'url': None, 'entities': {'description': {'urls': []}}, 'protected': False, 'followers_count': 1, 'friends_count': 25, 'listed_count': 0, 'created_at': 'Wed Feb 16 15:14:00 +0000 2022', 'favourites_count': 2, 'utc_offset': None, 'time_zone': None, 'geo_enabled': False, 'verified': False, 'statuses_count': 68, 'lang': None, 'contributors_enabled': False, 'is_translator': False, 'is_translation_enabled': False, 'profile_background_color': 'F5F8FA', 'profile_background_image_url': None, 'profile_background_image_url_https': None, 'profile_background_tile': False, 'profile_image_url': 'http://abs.twimg.com/sticky/default_profile_images/default_profile_normal.png', 'profile_image_url_https': 'https://abs.twimg.com/sticky/default_profile_images/default_profile_normal.png', 'profile_link_color': '1DA1F2', 'profile_sidebar_border_color': 'C0DEED', 'profile_sidebar_fill_color': 'DDEEF6', 'profile_text_color': '333333', 'profile_use_background_image': True, 'has_extended_profile': True, 'default_profile': True, 'default_profile_image': True, 'following': False, 'follow_request_sent': False, 'notifications': False, 'translator_type': 'none', 'withheld_in_countries': []}, id=1493966820591636481, id_str='1493966820591636481', name='SUNNY SAW', screen_name='SUNNYSA54185159', location='', description='Sexy', url=None, entities={'description': {'urls': []}}, protected=False, followers_count=1, friends_count=25, listed_count=0, created_at=datetime.datetime(2022, 2, 16, 15, 14, tzinfo=datetime.timezone.utc), favourites_count=2, utc_offset=None, time_zone=None, geo_enabled=False, verified=False, statuses_count=68, lang=None, contributors_enabled=False, is_translator=False, is_translation_enabled=False, profile_background_color='F5F8FA', profile_background_image_url=None, profile_background_image_url_https=None, profile_background_tile=False, profile_image_url='http://abs.twimg.com/sticky/default_profile_images/default_profile_normal.png', profile_image_url_https='https://abs.twimg.com/sticky/default_profile_images/default_profile_normal.png', profile_link_color='1DA1F2', profile_sidebar_border_color='C0DEED', profile_sidebar_fill_color='DDEEF6', profile_text_color='333333', profile_use_background_image=True, has_extended_profile=True, default_profile=True, default_profile_image=True, following=False, follow_request_sent=False, notifications=False, translator_type='none', withheld_in_countries=[]), user=User(_api=<tweepy.api.API object at 0x0000020D0115BBE0>, _json={'id': 1493966820591636481, 'id_str': '1493966820591636481', 'name': 'SUNNY SAW', 'screen_name': 'SUNNYSA54185159', 'location': '', 'description': 'Sexy', 'url': None, 'entities': {'description': {'urls': []}}, 'protected': False, 'followers_count': 1, 'friends_count': 25, 'listed_count': 0, 'created_at': 'Wed Feb 16 15:14:00 +0000 2022', 'favourites_count': 2, 'utc_offset': None, 'time_zone': None, 'geo_enabled': False, 'verified': False, 'statuses_count': 68, 'lang': None, 'contributors_enabled': False, 'is_translator': False, 'is_translation_enabled': False, 'profile_background_color': 'F5F8FA', 'profile_background_image_url': None, 'profile_background_image_url_https': None, 'profile_background_tile': False, 'profile_image_url': 'http://abs.twimg.com/sticky/default_profile_images/default_profile_normal.png', 'profile_image_url_https': 'https://abs.twimg.com/sticky/default_profile_images/default_profile_normal.png', 'profile_link_color': '1DA1F2', 'profile_sidebar_border_color': 'C0DEED', 'profile_sidebar_fill_color': 'DDEEF6', 'profile_text_color': '333333', 'profile_use_background_image': True, 'has_extended_profile': True, 'default_profile': True, 'default_profile_image': True, 'following': False, 'follow_request_sent': False, 'notifications': False, 'translator_type': 'none', 'withheld_in_countries': []}, id=1493966820591636481, id_str='1493966820591636481', name='SUNNY SAW', screen_name='SUNNYSA54185159', location='', description='Sexy', url=None, entities={'description': {'urls': []}}, protected=False, followers_count=1, friends_count=25, listed_count=0, created_at=datetime.datetime(2022, 2, 16, 15, 14, tzinfo=datetime.timezone.utc), favourites_count=2, utc_offset=None, time_zone=None, geo_enabled=False, verified=False, statuses_count=68, lang=None, contributors_enabled=False, is_translator=False, is_translation_enabled=False, profile_background_color='F5F8FA', profile_background_image_url=None, profile_background_image_url_https=None, profile_background_tile=False, profile_image_url='http://abs.twimg.com/sticky/default_profile_images/default_profile_normal.png', profile_image_url_https='https://abs.twimg.com/sticky/default_profile_images/default_profile_normal.png', profile_link_color='1DA1F2', profile_sidebar_border_color='C0DEED', profile_sidebar_fill_color='DDEEF6', profile_text_color='333333', profile_use_background_image=True, has_extended_profile=True, default_profile=True, default_profile_image=True, following=False, follow_request_sent=False, notifications=False, translator_type='none', withheld_in_countries=[]), geo=None, coordinates=None, place=None, contributors=None, is_quote_status=False, retweet_count=0, favorite_count=0, favorited=False, retweeted=False, lang='en')\n",
      "===================================================================================\n",
      "Status(_api=<tweepy.api.API object at 0x0000020D0115BBE0>, _json={'created_at': 'Thu Jul 14 16:37:45 +0000 2022', 'id': 1547621382074220544, 'id_str': '1547621382074220544', 'full_text': 'Feeling dismal because of Covid-19? \\nTry this easy recipe, sure to cheer you up! \\nhttps://t.co/H4m7SVEYra https://t.co/s1knvd9Ahe', 'truncated': False, 'display_text_range': [0, 105], 'entities': {'hashtags': [], 'symbols': [], 'user_mentions': [], 'urls': [{'url': 'https://t.co/H4m7SVEYra', 'expanded_url': 'https://tinyurl.com/39yk4yn8', 'display_url': 'tinyurl.com/39yk4yn8', 'indices': [82, 105]}], 'media': [{'id': 1547621380190965760, 'id_str': '1547621380190965760', 'indices': [106, 129], 'media_url': 'http://pbs.twimg.com/media/FXpBchUVEAAFtza.jpg', 'media_url_https': 'https://pbs.twimg.com/media/FXpBchUVEAAFtza.jpg', 'url': 'https://t.co/s1knvd9Ahe', 'display_url': 'pic.twitter.com/s1knvd9Ahe', 'expanded_url': 'https://twitter.com/CovidHelpBot/status/1547621382074220544/photo/1', 'type': 'photo', 'sizes': {'thumb': {'w': 150, 'h': 150, 'resize': 'crop'}, 'large': {'w': 900, 'h': 598, 'resize': 'fit'}, 'small': {'w': 680, 'h': 452, 'resize': 'fit'}, 'medium': {'w': 900, 'h': 598, 'resize': 'fit'}}}]}, 'extended_entities': {'media': [{'id': 1547621380190965760, 'id_str': '1547621380190965760', 'indices': [106, 129], 'media_url': 'http://pbs.twimg.com/media/FXpBchUVEAAFtza.jpg', 'media_url_https': 'https://pbs.twimg.com/media/FXpBchUVEAAFtza.jpg', 'url': 'https://t.co/s1knvd9Ahe', 'display_url': 'pic.twitter.com/s1knvd9Ahe', 'expanded_url': 'https://twitter.com/CovidHelpBot/status/1547621382074220544/photo/1', 'type': 'photo', 'sizes': {'thumb': {'w': 150, 'h': 150, 'resize': 'crop'}, 'large': {'w': 900, 'h': 598, 'resize': 'fit'}, 'small': {'w': 680, 'h': 452, 'resize': 'fit'}, 'medium': {'w': 900, 'h': 598, 'resize': 'fit'}}}]}, 'metadata': {'iso_language_code': 'en', 'result_type': 'recent'}, 'source': '<a href=\"https://cheapbotsdonequick.com\" rel=\"nofollow\">Cheap Bots, Done Quick!</a>', 'in_reply_to_status_id': None, 'in_reply_to_status_id_str': None, 'in_reply_to_user_id': None, 'in_reply_to_user_id_str': None, 'in_reply_to_screen_name': None, 'user': {'id': 1428236322838220802, 'id_str': '1428236322838220802', 'name': 'CovidHelpBot', 'screen_name': 'CovidHelpBot', 'location': '', 'description': 'For all your quick Covid links!', 'url': 'https://t.co/aQp59QaFby', 'entities': {'url': {'urls': [{'url': 'https://t.co/aQp59QaFby', 'expanded_url': 'https://cheapbotsdonequick.com/source/CovidHelpBot', 'display_url': 'cheapbotsdonequick.com/source/CovidHe…', 'indices': [0, 23]}]}, 'description': {'urls': []}}, 'protected': False, 'followers_count': 4, 'friends_count': 1, 'listed_count': 0, 'created_at': 'Thu Aug 19 06:04:15 +0000 2021', 'favourites_count': 1, 'utc_offset': None, 'time_zone': None, 'geo_enabled': False, 'verified': False, 'statuses_count': 7602, 'lang': None, 'contributors_enabled': False, 'is_translator': False, 'is_translation_enabled': False, 'profile_background_color': 'F5F8FA', 'profile_background_image_url': None, 'profile_background_image_url_https': None, 'profile_background_tile': False, 'profile_image_url': 'http://pbs.twimg.com/profile_images/1432157627224518659/q1uLVxnM_normal.jpg', 'profile_image_url_https': 'https://pbs.twimg.com/profile_images/1432157627224518659/q1uLVxnM_normal.jpg', 'profile_banner_url': 'https://pbs.twimg.com/profile_banners/1428236322838220802/1630287963', 'profile_link_color': '1DA1F2', 'profile_sidebar_border_color': 'C0DEED', 'profile_sidebar_fill_color': 'DDEEF6', 'profile_text_color': '333333', 'profile_use_background_image': True, 'has_extended_profile': True, 'default_profile': True, 'default_profile_image': False, 'following': False, 'follow_request_sent': False, 'notifications': False, 'translator_type': 'none', 'withheld_in_countries': []}, 'geo': None, 'coordinates': None, 'place': None, 'contributors': None, 'is_quote_status': False, 'retweet_count': 0, 'favorite_count': 0, 'favorited': False, 'retweeted': False, 'possibly_sensitive': False, 'lang': 'en'}, created_at=datetime.datetime(2022, 7, 14, 16, 37, 45, tzinfo=datetime.timezone.utc), id=1547621382074220544, id_str='1547621382074220544', full_text='Feeling dismal because of Covid-19? \\nTry this easy recipe, sure to cheer you up! \\nhttps://t.co/H4m7SVEYra https://t.co/s1knvd9Ahe', truncated=False, display_text_range=[0, 105], entities={'hashtags': [], 'symbols': [], 'user_mentions': [], 'urls': [{'url': 'https://t.co/H4m7SVEYra', 'expanded_url': 'https://tinyurl.com/39yk4yn8', 'display_url': 'tinyurl.com/39yk4yn8', 'indices': [82, 105]}], 'media': [{'id': 1547621380190965760, 'id_str': '1547621380190965760', 'indices': [106, 129], 'media_url': 'http://pbs.twimg.com/media/FXpBchUVEAAFtza.jpg', 'media_url_https': 'https://pbs.twimg.com/media/FXpBchUVEAAFtza.jpg', 'url': 'https://t.co/s1knvd9Ahe', 'display_url': 'pic.twitter.com/s1knvd9Ahe', 'expanded_url': 'https://twitter.com/CovidHelpBot/status/1547621382074220544/photo/1', 'type': 'photo', 'sizes': {'thumb': {'w': 150, 'h': 150, 'resize': 'crop'}, 'large': {'w': 900, 'h': 598, 'resize': 'fit'}, 'small': {'w': 680, 'h': 452, 'resize': 'fit'}, 'medium': {'w': 900, 'h': 598, 'resize': 'fit'}}}]}, extended_entities={'media': [{'id': 1547621380190965760, 'id_str': '1547621380190965760', 'indices': [106, 129], 'media_url': 'http://pbs.twimg.com/media/FXpBchUVEAAFtza.jpg', 'media_url_https': 'https://pbs.twimg.com/media/FXpBchUVEAAFtza.jpg', 'url': 'https://t.co/s1knvd9Ahe', 'display_url': 'pic.twitter.com/s1knvd9Ahe', 'expanded_url': 'https://twitter.com/CovidHelpBot/status/1547621382074220544/photo/1', 'type': 'photo', 'sizes': {'thumb': {'w': 150, 'h': 150, 'resize': 'crop'}, 'large': {'w': 900, 'h': 598, 'resize': 'fit'}, 'small': {'w': 680, 'h': 452, 'resize': 'fit'}, 'medium': {'w': 900, 'h': 598, 'resize': 'fit'}}}]}, metadata={'iso_language_code': 'en', 'result_type': 'recent'}, source='Cheap Bots, Done Quick!', source_url='https://cheapbotsdonequick.com', in_reply_to_status_id=None, in_reply_to_status_id_str=None, in_reply_to_user_id=None, in_reply_to_user_id_str=None, in_reply_to_screen_name=None, author=User(_api=<tweepy.api.API object at 0x0000020D0115BBE0>, _json={'id': 1428236322838220802, 'id_str': '1428236322838220802', 'name': 'CovidHelpBot', 'screen_name': 'CovidHelpBot', 'location': '', 'description': 'For all your quick Covid links!', 'url': 'https://t.co/aQp59QaFby', 'entities': {'url': {'urls': [{'url': 'https://t.co/aQp59QaFby', 'expanded_url': 'https://cheapbotsdonequick.com/source/CovidHelpBot', 'display_url': 'cheapbotsdonequick.com/source/CovidHe…', 'indices': [0, 23]}]}, 'description': {'urls': []}}, 'protected': False, 'followers_count': 4, 'friends_count': 1, 'listed_count': 0, 'created_at': 'Thu Aug 19 06:04:15 +0000 2021', 'favourites_count': 1, 'utc_offset': None, 'time_zone': None, 'geo_enabled': False, 'verified': False, 'statuses_count': 7602, 'lang': None, 'contributors_enabled': False, 'is_translator': False, 'is_translation_enabled': False, 'profile_background_color': 'F5F8FA', 'profile_background_image_url': None, 'profile_background_image_url_https': None, 'profile_background_tile': False, 'profile_image_url': 'http://pbs.twimg.com/profile_images/1432157627224518659/q1uLVxnM_normal.jpg', 'profile_image_url_https': 'https://pbs.twimg.com/profile_images/1432157627224518659/q1uLVxnM_normal.jpg', 'profile_banner_url': 'https://pbs.twimg.com/profile_banners/1428236322838220802/1630287963', 'profile_link_color': '1DA1F2', 'profile_sidebar_border_color': 'C0DEED', 'profile_sidebar_fill_color': 'DDEEF6', 'profile_text_color': '333333', 'profile_use_background_image': True, 'has_extended_profile': True, 'default_profile': True, 'default_profile_image': False, 'following': False, 'follow_request_sent': False, 'notifications': False, 'translator_type': 'none', 'withheld_in_countries': []}, id=1428236322838220802, id_str='1428236322838220802', name='CovidHelpBot', screen_name='CovidHelpBot', location='', description='For all your quick Covid links!', url='https://t.co/aQp59QaFby', entities={'url': {'urls': [{'url': 'https://t.co/aQp59QaFby', 'expanded_url': 'https://cheapbotsdonequick.com/source/CovidHelpBot', 'display_url': 'cheapbotsdonequick.com/source/CovidHe…', 'indices': [0, 23]}]}, 'description': {'urls': []}}, protected=False, followers_count=4, friends_count=1, listed_count=0, created_at=datetime.datetime(2021, 8, 19, 6, 4, 15, tzinfo=datetime.timezone.utc), favourites_count=1, utc_offset=None, time_zone=None, geo_enabled=False, verified=False, statuses_count=7602, lang=None, contributors_enabled=False, is_translator=False, is_translation_enabled=False, profile_background_color='F5F8FA', profile_background_image_url=None, profile_background_image_url_https=None, profile_background_tile=False, profile_image_url='http://pbs.twimg.com/profile_images/1432157627224518659/q1uLVxnM_normal.jpg', profile_image_url_https='https://pbs.twimg.com/profile_images/1432157627224518659/q1uLVxnM_normal.jpg', profile_banner_url='https://pbs.twimg.com/profile_banners/1428236322838220802/1630287963', profile_link_color='1DA1F2', profile_sidebar_border_color='C0DEED', profile_sidebar_fill_color='DDEEF6', profile_text_color='333333', profile_use_background_image=True, has_extended_profile=True, default_profile=True, default_profile_image=False, following=False, follow_request_sent=False, notifications=False, translator_type='none', withheld_in_countries=[]), user=User(_api=<tweepy.api.API object at 0x0000020D0115BBE0>, _json={'id': 1428236322838220802, 'id_str': '1428236322838220802', 'name': 'CovidHelpBot', 'screen_name': 'CovidHelpBot', 'location': '', 'description': 'For all your quick Covid links!', 'url': 'https://t.co/aQp59QaFby', 'entities': {'url': {'urls': [{'url': 'https://t.co/aQp59QaFby', 'expanded_url': 'https://cheapbotsdonequick.com/source/CovidHelpBot', 'display_url': 'cheapbotsdonequick.com/source/CovidHe…', 'indices': [0, 23]}]}, 'description': {'urls': []}}, 'protected': False, 'followers_count': 4, 'friends_count': 1, 'listed_count': 0, 'created_at': 'Thu Aug 19 06:04:15 +0000 2021', 'favourites_count': 1, 'utc_offset': None, 'time_zone': None, 'geo_enabled': False, 'verified': False, 'statuses_count': 7602, 'lang': None, 'contributors_enabled': False, 'is_translator': False, 'is_translation_enabled': False, 'profile_background_color': 'F5F8FA', 'profile_background_image_url': None, 'profile_background_image_url_https': None, 'profile_background_tile': False, 'profile_image_url': 'http://pbs.twimg.com/profile_images/1432157627224518659/q1uLVxnM_normal.jpg', 'profile_image_url_https': 'https://pbs.twimg.com/profile_images/1432157627224518659/q1uLVxnM_normal.jpg', 'profile_banner_url': 'https://pbs.twimg.com/profile_banners/1428236322838220802/1630287963', 'profile_link_color': '1DA1F2', 'profile_sidebar_border_color': 'C0DEED', 'profile_sidebar_fill_color': 'DDEEF6', 'profile_text_color': '333333', 'profile_use_background_image': True, 'has_extended_profile': True, 'default_profile': True, 'default_profile_image': False, 'following': False, 'follow_request_sent': False, 'notifications': False, 'translator_type': 'none', 'withheld_in_countries': []}, id=1428236322838220802, id_str='1428236322838220802', name='CovidHelpBot', screen_name='CovidHelpBot', location='', description='For all your quick Covid links!', url='https://t.co/aQp59QaFby', entities={'url': {'urls': [{'url': 'https://t.co/aQp59QaFby', 'expanded_url': 'https://cheapbotsdonequick.com/source/CovidHelpBot', 'display_url': 'cheapbotsdonequick.com/source/CovidHe…', 'indices': [0, 23]}]}, 'description': {'urls': []}}, protected=False, followers_count=4, friends_count=1, listed_count=0, created_at=datetime.datetime(2021, 8, 19, 6, 4, 15, tzinfo=datetime.timezone.utc), favourites_count=1, utc_offset=None, time_zone=None, geo_enabled=False, verified=False, statuses_count=7602, lang=None, contributors_enabled=False, is_translator=False, is_translation_enabled=False, profile_background_color='F5F8FA', profile_background_image_url=None, profile_background_image_url_https=None, profile_background_tile=False, profile_image_url='http://pbs.twimg.com/profile_images/1432157627224518659/q1uLVxnM_normal.jpg', profile_image_url_https='https://pbs.twimg.com/profile_images/1432157627224518659/q1uLVxnM_normal.jpg', profile_banner_url='https://pbs.twimg.com/profile_banners/1428236322838220802/1630287963', profile_link_color='1DA1F2', profile_sidebar_border_color='C0DEED', profile_sidebar_fill_color='DDEEF6', profile_text_color='333333', profile_use_background_image=True, has_extended_profile=True, default_profile=True, default_profile_image=False, following=False, follow_request_sent=False, notifications=False, translator_type='none', withheld_in_countries=[]), geo=None, coordinates=None, place=None, contributors=None, is_quote_status=False, retweet_count=0, favorite_count=0, favorited=False, retweeted=False, possibly_sensitive=False, lang='en')\n",
      "===================================================================================\n",
      "Status(_api=<tweepy.api.API object at 0x0000020D0115BBE0>, _json={'created_at': 'Thu Jul 14 16:37:41 +0000 2022', 'id': 1547621365242478595, 'id_str': '1547621365242478595', 'full_text': '@1057Seamus @divadarlings1 @Sandyboots2020 Covid Dead last 7 Days13th July 2022, England 309 Total (166902)Scotland 5m 61 (14949) Wales 20(10357) NI Ireland 19(46573) Johnson/Sturgeon got all the big calls right?? Care Home Currently No Masks??? Ireland 5m 7523  New Zealand 5m 1602 dead.', 'truncated': False, 'display_text_range': [43, 288], 'entities': {'hashtags': [], 'symbols': [], 'user_mentions': [{'screen_name': '1057Seamus', 'name': 'Séamus.1798💜🏴\\u200d☠️', 'id': 1185584566645460993, 'id_str': '1185584566645460993', 'indices': [0, 11]}, {'screen_name': 'divadarlings1', 'name': 'Diva🇪🇺🇬🇧💙NHS #FBPE #JohnsonOut', 'id': 1179035311042482176, 'id_str': '1179035311042482176', 'indices': [12, 26]}, {'screen_name': 'Sandyboots2020', 'name': 'Lisa #SafeEdForAll', 'id': 1309417499398746112, 'id_str': '1309417499398746112', 'indices': [27, 42]}], 'urls': []}, 'metadata': {'iso_language_code': 'en', 'result_type': 'recent'}, 'source': '<a href=\"http://twitter.com/download/iphone\" rel=\"nofollow\">Twitter for iPhone</a>', 'in_reply_to_status_id': 1547550523628437504, 'in_reply_to_status_id_str': '1547550523628437504', 'in_reply_to_user_id': 1185584566645460993, 'in_reply_to_user_id_str': '1185584566645460993', 'in_reply_to_screen_name': '1057Seamus', 'user': {'id': 1331081072, 'id_str': '1331081072', 'name': 'djr', 'screen_name': 'reillyd123', 'location': 'United Kingdom', 'description': 'Russian Funded,Trump, Bannon, Dick, Kinsboris & Johnson Gone!Here now till 4 Foreign owned English Racist Tory media GONE!Liked by XR again x4! Blockedby Brillo', 'url': None, 'entities': {'description': {'urls': []}}, 'protected': False, 'followers_count': 60, 'friends_count': 383, 'listed_count': 4, 'created_at': 'Sat Apr 06 08:42:02 +0000 2013', 'favourites_count': 254, 'utc_offset': None, 'time_zone': None, 'geo_enabled': True, 'verified': False, 'statuses_count': 12446, 'lang': None, 'contributors_enabled': False, 'is_translator': False, 'is_translation_enabled': False, 'profile_background_color': 'C0DEED', 'profile_background_image_url': 'http://abs.twimg.com/images/themes/theme1/bg.png', 'profile_background_image_url_https': 'https://abs.twimg.com/images/themes/theme1/bg.png', 'profile_background_tile': False, 'profile_image_url': 'http://abs.twimg.com/sticky/default_profile_images/default_profile_normal.png', 'profile_image_url_https': 'https://abs.twimg.com/sticky/default_profile_images/default_profile_normal.png', 'profile_link_color': '1DA1F2', 'profile_sidebar_border_color': 'C0DEED', 'profile_sidebar_fill_color': 'DDEEF6', 'profile_text_color': '333333', 'profile_use_background_image': True, 'has_extended_profile': False, 'default_profile': True, 'default_profile_image': True, 'following': False, 'follow_request_sent': False, 'notifications': False, 'translator_type': 'none', 'withheld_in_countries': []}, 'geo': None, 'coordinates': None, 'place': None, 'contributors': None, 'is_quote_status': False, 'retweet_count': 0, 'favorite_count': 0, 'favorited': False, 'retweeted': False, 'lang': 'en'}, created_at=datetime.datetime(2022, 7, 14, 16, 37, 41, tzinfo=datetime.timezone.utc), id=1547621365242478595, id_str='1547621365242478595', full_text='@1057Seamus @divadarlings1 @Sandyboots2020 Covid Dead last 7 Days13th July 2022, England 309 Total (166902)Scotland 5m 61 (14949) Wales 20(10357) NI Ireland 19(46573) Johnson/Sturgeon got all the big calls right?? Care Home Currently No Masks??? Ireland 5m 7523  New Zealand 5m 1602 dead.', truncated=False, display_text_range=[43, 288], entities={'hashtags': [], 'symbols': [], 'user_mentions': [{'screen_name': '1057Seamus', 'name': 'Séamus.1798💜🏴\\u200d☠️', 'id': 1185584566645460993, 'id_str': '1185584566645460993', 'indices': [0, 11]}, {'screen_name': 'divadarlings1', 'name': 'Diva🇪🇺🇬🇧💙NHS #FBPE #JohnsonOut', 'id': 1179035311042482176, 'id_str': '1179035311042482176', 'indices': [12, 26]}, {'screen_name': 'Sandyboots2020', 'name': 'Lisa #SafeEdForAll', 'id': 1309417499398746112, 'id_str': '1309417499398746112', 'indices': [27, 42]}], 'urls': []}, metadata={'iso_language_code': 'en', 'result_type': 'recent'}, source='Twitter for iPhone', source_url='http://twitter.com/download/iphone', in_reply_to_status_id=1547550523628437504, in_reply_to_status_id_str='1547550523628437504', in_reply_to_user_id=1185584566645460993, in_reply_to_user_id_str='1185584566645460993', in_reply_to_screen_name='1057Seamus', author=User(_api=<tweepy.api.API object at 0x0000020D0115BBE0>, _json={'id': 1331081072, 'id_str': '1331081072', 'name': 'djr', 'screen_name': 'reillyd123', 'location': 'United Kingdom', 'description': 'Russian Funded,Trump, Bannon, Dick, Kinsboris & Johnson Gone!Here now till 4 Foreign owned English Racist Tory media GONE!Liked by XR again x4! Blockedby Brillo', 'url': None, 'entities': {'description': {'urls': []}}, 'protected': False, 'followers_count': 60, 'friends_count': 383, 'listed_count': 4, 'created_at': 'Sat Apr 06 08:42:02 +0000 2013', 'favourites_count': 254, 'utc_offset': None, 'time_zone': None, 'geo_enabled': True, 'verified': False, 'statuses_count': 12446, 'lang': None, 'contributors_enabled': False, 'is_translator': False, 'is_translation_enabled': False, 'profile_background_color': 'C0DEED', 'profile_background_image_url': 'http://abs.twimg.com/images/themes/theme1/bg.png', 'profile_background_image_url_https': 'https://abs.twimg.com/images/themes/theme1/bg.png', 'profile_background_tile': False, 'profile_image_url': 'http://abs.twimg.com/sticky/default_profile_images/default_profile_normal.png', 'profile_image_url_https': 'https://abs.twimg.com/sticky/default_profile_images/default_profile_normal.png', 'profile_link_color': '1DA1F2', 'profile_sidebar_border_color': 'C0DEED', 'profile_sidebar_fill_color': 'DDEEF6', 'profile_text_color': '333333', 'profile_use_background_image': True, 'has_extended_profile': False, 'default_profile': True, 'default_profile_image': True, 'following': False, 'follow_request_sent': False, 'notifications': False, 'translator_type': 'none', 'withheld_in_countries': []}, id=1331081072, id_str='1331081072', name='djr', screen_name='reillyd123', location='United Kingdom', description='Russian Funded,Trump, Bannon, Dick, Kinsboris & Johnson Gone!Here now till 4 Foreign owned English Racist Tory media GONE!Liked by XR again x4! Blockedby Brillo', url=None, entities={'description': {'urls': []}}, protected=False, followers_count=60, friends_count=383, listed_count=4, created_at=datetime.datetime(2013, 4, 6, 8, 42, 2, tzinfo=datetime.timezone.utc), favourites_count=254, utc_offset=None, time_zone=None, geo_enabled=True, verified=False, statuses_count=12446, lang=None, contributors_enabled=False, is_translator=False, is_translation_enabled=False, profile_background_color='C0DEED', profile_background_image_url='http://abs.twimg.com/images/themes/theme1/bg.png', profile_background_image_url_https='https://abs.twimg.com/images/themes/theme1/bg.png', profile_background_tile=False, profile_image_url='http://abs.twimg.com/sticky/default_profile_images/default_profile_normal.png', profile_image_url_https='https://abs.twimg.com/sticky/default_profile_images/default_profile_normal.png', profile_link_color='1DA1F2', profile_sidebar_border_color='C0DEED', profile_sidebar_fill_color='DDEEF6', profile_text_color='333333', profile_use_background_image=True, has_extended_profile=False, default_profile=True, default_profile_image=True, following=False, follow_request_sent=False, notifications=False, translator_type='none', withheld_in_countries=[]), user=User(_api=<tweepy.api.API object at 0x0000020D0115BBE0>, _json={'id': 1331081072, 'id_str': '1331081072', 'name': 'djr', 'screen_name': 'reillyd123', 'location': 'United Kingdom', 'description': 'Russian Funded,Trump, Bannon, Dick, Kinsboris & Johnson Gone!Here now till 4 Foreign owned English Racist Tory media GONE!Liked by XR again x4! Blockedby Brillo', 'url': None, 'entities': {'description': {'urls': []}}, 'protected': False, 'followers_count': 60, 'friends_count': 383, 'listed_count': 4, 'created_at': 'Sat Apr 06 08:42:02 +0000 2013', 'favourites_count': 254, 'utc_offset': None, 'time_zone': None, 'geo_enabled': True, 'verified': False, 'statuses_count': 12446, 'lang': None, 'contributors_enabled': False, 'is_translator': False, 'is_translation_enabled': False, 'profile_background_color': 'C0DEED', 'profile_background_image_url': 'http://abs.twimg.com/images/themes/theme1/bg.png', 'profile_background_image_url_https': 'https://abs.twimg.com/images/themes/theme1/bg.png', 'profile_background_tile': False, 'profile_image_url': 'http://abs.twimg.com/sticky/default_profile_images/default_profile_normal.png', 'profile_image_url_https': 'https://abs.twimg.com/sticky/default_profile_images/default_profile_normal.png', 'profile_link_color': '1DA1F2', 'profile_sidebar_border_color': 'C0DEED', 'profile_sidebar_fill_color': 'DDEEF6', 'profile_text_color': '333333', 'profile_use_background_image': True, 'has_extended_profile': False, 'default_profile': True, 'default_profile_image': True, 'following': False, 'follow_request_sent': False, 'notifications': False, 'translator_type': 'none', 'withheld_in_countries': []}, id=1331081072, id_str='1331081072', name='djr', screen_name='reillyd123', location='United Kingdom', description='Russian Funded,Trump, Bannon, Dick, Kinsboris & Johnson Gone!Here now till 4 Foreign owned English Racist Tory media GONE!Liked by XR again x4! Blockedby Brillo', url=None, entities={'description': {'urls': []}}, protected=False, followers_count=60, friends_count=383, listed_count=4, created_at=datetime.datetime(2013, 4, 6, 8, 42, 2, tzinfo=datetime.timezone.utc), favourites_count=254, utc_offset=None, time_zone=None, geo_enabled=True, verified=False, statuses_count=12446, lang=None, contributors_enabled=False, is_translator=False, is_translation_enabled=False, profile_background_color='C0DEED', profile_background_image_url='http://abs.twimg.com/images/themes/theme1/bg.png', profile_background_image_url_https='https://abs.twimg.com/images/themes/theme1/bg.png', profile_background_tile=False, profile_image_url='http://abs.twimg.com/sticky/default_profile_images/default_profile_normal.png', profile_image_url_https='https://abs.twimg.com/sticky/default_profile_images/default_profile_normal.png', profile_link_color='1DA1F2', profile_sidebar_border_color='C0DEED', profile_sidebar_fill_color='DDEEF6', profile_text_color='333333', profile_use_background_image=True, has_extended_profile=False, default_profile=True, default_profile_image=True, following=False, follow_request_sent=False, notifications=False, translator_type='none', withheld_in_countries=[]), geo=None, coordinates=None, place=None, contributors=None, is_quote_status=False, retweet_count=0, favorite_count=0, favorited=False, retweeted=False, lang='en')\n",
      "===================================================================================\n",
      "Status(_api=<tweepy.api.API object at 0x0000020D0115BBE0>, _json={'created_at': 'Thu Jul 14 16:37:38 +0000 2022', 'id': 1547621350893793280, 'id_str': '1547621350893793280', 'full_text': 'The COVID-19 Omicron sub variant BA5, which has been causing concern in several countries, has been identified in Trinidad and Tobago.\\n\\n https://t.co/Zd5tE2pucG via @tttliveonline', 'truncated': False, 'display_text_range': [0, 179], 'entities': {'hashtags': [], 'symbols': [], 'user_mentions': [{'screen_name': 'tttliveonline', 'name': 'TTT Live Online', 'id': 25357817, 'id_str': '25357817', 'indices': [165, 179]}], 'urls': [{'url': 'https://t.co/Zd5tE2pucG', 'expanded_url': 'https://www.ttt.live/omicron-variant-concern/', 'display_url': 'ttt.live/omicron-varian…', 'indices': [137, 160]}]}, 'metadata': {'iso_language_code': 'en', 'result_type': 'recent'}, 'source': '<a href=\"https://mobile.twitter.com\" rel=\"nofollow\">Twitter Web App</a>', 'in_reply_to_status_id': None, 'in_reply_to_status_id_str': None, 'in_reply_to_user_id': None, 'in_reply_to_user_id_str': None, 'in_reply_to_screen_name': None, 'user': {'id': 25357817, 'id_str': '25357817', 'name': 'TTT Live Online', 'screen_name': 'tttliveonline', 'location': 'Trinidad and Tobago', 'description': 'TTT News, delivering more news, more often to more people. Follow us on social media @TTTLiveOnline or log on to https://t.co/JlMatR7PBX', 'url': 'https://t.co/ypIVPk5bZM', 'entities': {'url': {'urls': [{'url': 'https://t.co/ypIVPk5bZM', 'expanded_url': 'https://www.ttt.live/', 'display_url': 'ttt.live', 'indices': [0, 23]}]}, 'description': {'urls': [{'url': 'https://t.co/JlMatR7PBX', 'expanded_url': 'http://www.ttt.live', 'display_url': 'ttt.live', 'indices': [113, 136]}]}}, 'protected': False, 'followers_count': 128999, 'friends_count': 780, 'listed_count': 430, 'created_at': 'Thu Mar 19 18:42:56 +0000 2009', 'favourites_count': 434, 'utc_offset': None, 'time_zone': None, 'geo_enabled': True, 'verified': False, 'statuses_count': 98376, 'lang': None, 'contributors_enabled': False, 'is_translator': False, 'is_translation_enabled': False, 'profile_background_color': '01061A', 'profile_background_image_url': 'http://abs.twimg.com/images/themes/theme1/bg.png', 'profile_background_image_url_https': 'https://abs.twimg.com/images/themes/theme1/bg.png', 'profile_background_tile': False, 'profile_image_url': 'http://pbs.twimg.com/profile_images/1232515875628101633/Hrm-ERAO_normal.jpg', 'profile_image_url_https': 'https://pbs.twimg.com/profile_images/1232515875628101633/Hrm-ERAO_normal.jpg', 'profile_banner_url': 'https://pbs.twimg.com/profile_banners/25357817/1630495310', 'profile_link_color': '2FC2EF', 'profile_sidebar_border_color': '181A1E', 'profile_sidebar_fill_color': '252429', 'profile_text_color': '666666', 'profile_use_background_image': False, 'has_extended_profile': False, 'default_profile': False, 'default_profile_image': False, 'following': False, 'follow_request_sent': False, 'notifications': False, 'translator_type': 'none', 'withheld_in_countries': []}, 'geo': None, 'coordinates': None, 'place': None, 'contributors': None, 'is_quote_status': False, 'retweet_count': 0, 'favorite_count': 0, 'favorited': False, 'retweeted': False, 'possibly_sensitive': False, 'lang': 'en'}, created_at=datetime.datetime(2022, 7, 14, 16, 37, 38, tzinfo=datetime.timezone.utc), id=1547621350893793280, id_str='1547621350893793280', full_text='The COVID-19 Omicron sub variant BA5, which has been causing concern in several countries, has been identified in Trinidad and Tobago.\\n\\n https://t.co/Zd5tE2pucG via @tttliveonline', truncated=False, display_text_range=[0, 179], entities={'hashtags': [], 'symbols': [], 'user_mentions': [{'screen_name': 'tttliveonline', 'name': 'TTT Live Online', 'id': 25357817, 'id_str': '25357817', 'indices': [165, 179]}], 'urls': [{'url': 'https://t.co/Zd5tE2pucG', 'expanded_url': 'https://www.ttt.live/omicron-variant-concern/', 'display_url': 'ttt.live/omicron-varian…', 'indices': [137, 160]}]}, metadata={'iso_language_code': 'en', 'result_type': 'recent'}, source='Twitter Web App', source_url='https://mobile.twitter.com', in_reply_to_status_id=None, in_reply_to_status_id_str=None, in_reply_to_user_id=None, in_reply_to_user_id_str=None, in_reply_to_screen_name=None, author=User(_api=<tweepy.api.API object at 0x0000020D0115BBE0>, _json={'id': 25357817, 'id_str': '25357817', 'name': 'TTT Live Online', 'screen_name': 'tttliveonline', 'location': 'Trinidad and Tobago', 'description': 'TTT News, delivering more news, more often to more people. Follow us on social media @TTTLiveOnline or log on to https://t.co/JlMatR7PBX', 'url': 'https://t.co/ypIVPk5bZM', 'entities': {'url': {'urls': [{'url': 'https://t.co/ypIVPk5bZM', 'expanded_url': 'https://www.ttt.live/', 'display_url': 'ttt.live', 'indices': [0, 23]}]}, 'description': {'urls': [{'url': 'https://t.co/JlMatR7PBX', 'expanded_url': 'http://www.ttt.live', 'display_url': 'ttt.live', 'indices': [113, 136]}]}}, 'protected': False, 'followers_count': 128999, 'friends_count': 780, 'listed_count': 430, 'created_at': 'Thu Mar 19 18:42:56 +0000 2009', 'favourites_count': 434, 'utc_offset': None, 'time_zone': None, 'geo_enabled': True, 'verified': False, 'statuses_count': 98376, 'lang': None, 'contributors_enabled': False, 'is_translator': False, 'is_translation_enabled': False, 'profile_background_color': '01061A', 'profile_background_image_url': 'http://abs.twimg.com/images/themes/theme1/bg.png', 'profile_background_image_url_https': 'https://abs.twimg.com/images/themes/theme1/bg.png', 'profile_background_tile': False, 'profile_image_url': 'http://pbs.twimg.com/profile_images/1232515875628101633/Hrm-ERAO_normal.jpg', 'profile_image_url_https': 'https://pbs.twimg.com/profile_images/1232515875628101633/Hrm-ERAO_normal.jpg', 'profile_banner_url': 'https://pbs.twimg.com/profile_banners/25357817/1630495310', 'profile_link_color': '2FC2EF', 'profile_sidebar_border_color': '181A1E', 'profile_sidebar_fill_color': '252429', 'profile_text_color': '666666', 'profile_use_background_image': False, 'has_extended_profile': False, 'default_profile': False, 'default_profile_image': False, 'following': False, 'follow_request_sent': False, 'notifications': False, 'translator_type': 'none', 'withheld_in_countries': []}, id=25357817, id_str='25357817', name='TTT Live Online', screen_name='tttliveonline', location='Trinidad and Tobago', description='TTT News, delivering more news, more often to more people. Follow us on social media @TTTLiveOnline or log on to https://t.co/JlMatR7PBX', url='https://t.co/ypIVPk5bZM', entities={'url': {'urls': [{'url': 'https://t.co/ypIVPk5bZM', 'expanded_url': 'https://www.ttt.live/', 'display_url': 'ttt.live', 'indices': [0, 23]}]}, 'description': {'urls': [{'url': 'https://t.co/JlMatR7PBX', 'expanded_url': 'http://www.ttt.live', 'display_url': 'ttt.live', 'indices': [113, 136]}]}}, protected=False, followers_count=128999, friends_count=780, listed_count=430, created_at=datetime.datetime(2009, 3, 19, 18, 42, 56, tzinfo=datetime.timezone.utc), favourites_count=434, utc_offset=None, time_zone=None, geo_enabled=True, verified=False, statuses_count=98376, lang=None, contributors_enabled=False, is_translator=False, is_translation_enabled=False, profile_background_color='01061A', profile_background_image_url='http://abs.twimg.com/images/themes/theme1/bg.png', profile_background_image_url_https='https://abs.twimg.com/images/themes/theme1/bg.png', profile_background_tile=False, profile_image_url='http://pbs.twimg.com/profile_images/1232515875628101633/Hrm-ERAO_normal.jpg', profile_image_url_https='https://pbs.twimg.com/profile_images/1232515875628101633/Hrm-ERAO_normal.jpg', profile_banner_url='https://pbs.twimg.com/profile_banners/25357817/1630495310', profile_link_color='2FC2EF', profile_sidebar_border_color='181A1E', profile_sidebar_fill_color='252429', profile_text_color='666666', profile_use_background_image=False, has_extended_profile=False, default_profile=False, default_profile_image=False, following=False, follow_request_sent=False, notifications=False, translator_type='none', withheld_in_countries=[]), user=User(_api=<tweepy.api.API object at 0x0000020D0115BBE0>, _json={'id': 25357817, 'id_str': '25357817', 'name': 'TTT Live Online', 'screen_name': 'tttliveonline', 'location': 'Trinidad and Tobago', 'description': 'TTT News, delivering more news, more often to more people. Follow us on social media @TTTLiveOnline or log on to https://t.co/JlMatR7PBX', 'url': 'https://t.co/ypIVPk5bZM', 'entities': {'url': {'urls': [{'url': 'https://t.co/ypIVPk5bZM', 'expanded_url': 'https://www.ttt.live/', 'display_url': 'ttt.live', 'indices': [0, 23]}]}, 'description': {'urls': [{'url': 'https://t.co/JlMatR7PBX', 'expanded_url': 'http://www.ttt.live', 'display_url': 'ttt.live', 'indices': [113, 136]}]}}, 'protected': False, 'followers_count': 128999, 'friends_count': 780, 'listed_count': 430, 'created_at': 'Thu Mar 19 18:42:56 +0000 2009', 'favourites_count': 434, 'utc_offset': None, 'time_zone': None, 'geo_enabled': True, 'verified': False, 'statuses_count': 98376, 'lang': None, 'contributors_enabled': False, 'is_translator': False, 'is_translation_enabled': False, 'profile_background_color': '01061A', 'profile_background_image_url': 'http://abs.twimg.com/images/themes/theme1/bg.png', 'profile_background_image_url_https': 'https://abs.twimg.com/images/themes/theme1/bg.png', 'profile_background_tile': False, 'profile_image_url': 'http://pbs.twimg.com/profile_images/1232515875628101633/Hrm-ERAO_normal.jpg', 'profile_image_url_https': 'https://pbs.twimg.com/profile_images/1232515875628101633/Hrm-ERAO_normal.jpg', 'profile_banner_url': 'https://pbs.twimg.com/profile_banners/25357817/1630495310', 'profile_link_color': '2FC2EF', 'profile_sidebar_border_color': '181A1E', 'profile_sidebar_fill_color': '252429', 'profile_text_color': '666666', 'profile_use_background_image': False, 'has_extended_profile': False, 'default_profile': False, 'default_profile_image': False, 'following': False, 'follow_request_sent': False, 'notifications': False, 'translator_type': 'none', 'withheld_in_countries': []}, id=25357817, id_str='25357817', name='TTT Live Online', screen_name='tttliveonline', location='Trinidad and Tobago', description='TTT News, delivering more news, more often to more people. Follow us on social media @TTTLiveOnline or log on to https://t.co/JlMatR7PBX', url='https://t.co/ypIVPk5bZM', entities={'url': {'urls': [{'url': 'https://t.co/ypIVPk5bZM', 'expanded_url': 'https://www.ttt.live/', 'display_url': 'ttt.live', 'indices': [0, 23]}]}, 'description': {'urls': [{'url': 'https://t.co/JlMatR7PBX', 'expanded_url': 'http://www.ttt.live', 'display_url': 'ttt.live', 'indices': [113, 136]}]}}, protected=False, followers_count=128999, friends_count=780, listed_count=430, created_at=datetime.datetime(2009, 3, 19, 18, 42, 56, tzinfo=datetime.timezone.utc), favourites_count=434, utc_offset=None, time_zone=None, geo_enabled=True, verified=False, statuses_count=98376, lang=None, contributors_enabled=False, is_translator=False, is_translation_enabled=False, profile_background_color='01061A', profile_background_image_url='http://abs.twimg.com/images/themes/theme1/bg.png', profile_background_image_url_https='https://abs.twimg.com/images/themes/theme1/bg.png', profile_background_tile=False, profile_image_url='http://pbs.twimg.com/profile_images/1232515875628101633/Hrm-ERAO_normal.jpg', profile_image_url_https='https://pbs.twimg.com/profile_images/1232515875628101633/Hrm-ERAO_normal.jpg', profile_banner_url='https://pbs.twimg.com/profile_banners/25357817/1630495310', profile_link_color='2FC2EF', profile_sidebar_border_color='181A1E', profile_sidebar_fill_color='252429', profile_text_color='666666', profile_use_background_image=False, has_extended_profile=False, default_profile=False, default_profile_image=False, following=False, follow_request_sent=False, notifications=False, translator_type='none', withheld_in_countries=[]), geo=None, coordinates=None, place=None, contributors=None, is_quote_status=False, retweet_count=0, favorite_count=0, favorited=False, retweeted=False, possibly_sensitive=False, lang='en')\n",
      "===================================================================================\n",
      "Status(_api=<tweepy.api.API object at 0x0000020D0115BBE0>, _json={'created_at': 'Thu Jul 14 16:37:37 +0000 2022', 'id': 1547621347626430473, 'id_str': '1547621347626430473', 'full_text': 'Today’s coronavirus news: Ontario’s mask mandate extension in high-risk settings being met with mixed reactions #virus https://t.co/B9BY0n9dn6', 'truncated': False, 'display_text_range': [0, 142], 'entities': {'hashtags': [{'text': 'virus', 'indices': [112, 118]}], 'symbols': [], 'user_mentions': [], 'urls': [{'url': 'https://t.co/B9BY0n9dn6', 'expanded_url': 'https://bhive.nectar.social/5zD7J7', 'display_url': 'bhive.nectar.social/5zD7J7', 'indices': [119, 142]}]}, 'metadata': {'iso_language_code': 'en', 'result_type': 'recent'}, 'source': '<a href=\"https://nectar.social\" rel=\"nofollow\">BHIVE Nectar</a>', 'in_reply_to_status_id': None, 'in_reply_to_status_id_str': None, 'in_reply_to_user_id': None, 'in_reply_to_user_id_str': None, 'in_reply_to_screen_name': None, 'user': {'id': 1433847975713849344, 'id_str': '1433847975713849344', 'name': 'divnotes_tester', 'screen_name': 'DivnotesTester', 'location': '', 'description': \"https://t.co/7btlNp1NFw test account used for various API and integration testing for various projects. Please don't follow us here - find us @divnotes\", 'url': None, 'entities': {'description': {'urls': [{'url': 'https://t.co/7btlNp1NFw', 'expanded_url': 'http://DivNotes.com', 'display_url': 'DivNotes.com', 'indices': [0, 23]}]}}, 'protected': False, 'followers_count': 3, 'friends_count': 1, 'listed_count': 0, 'created_at': 'Fri Sep 03 17:42:56 +0000 2021', 'favourites_count': 1, 'utc_offset': None, 'time_zone': None, 'geo_enabled': False, 'verified': False, 'statuses_count': 2916, 'lang': None, 'contributors_enabled': False, 'is_translator': False, 'is_translation_enabled': False, 'profile_background_color': 'F5F8FA', 'profile_background_image_url': None, 'profile_background_image_url_https': None, 'profile_background_tile': False, 'profile_image_url': 'http://pbs.twimg.com/profile_images/1433848189791113223/ya3Qgomz_normal.jpg', 'profile_image_url_https': 'https://pbs.twimg.com/profile_images/1433848189791113223/ya3Qgomz_normal.jpg', 'profile_link_color': '1DA1F2', 'profile_sidebar_border_color': 'C0DEED', 'profile_sidebar_fill_color': 'DDEEF6', 'profile_text_color': '333333', 'profile_use_background_image': True, 'has_extended_profile': True, 'default_profile': True, 'default_profile_image': False, 'following': False, 'follow_request_sent': False, 'notifications': False, 'translator_type': 'none', 'withheld_in_countries': []}, 'geo': None, 'coordinates': None, 'place': None, 'contributors': None, 'is_quote_status': False, 'retweet_count': 0, 'favorite_count': 0, 'favorited': False, 'retweeted': False, 'possibly_sensitive': False, 'lang': 'en'}, created_at=datetime.datetime(2022, 7, 14, 16, 37, 37, tzinfo=datetime.timezone.utc), id=1547621347626430473, id_str='1547621347626430473', full_text='Today’s coronavirus news: Ontario’s mask mandate extension in high-risk settings being met with mixed reactions #virus https://t.co/B9BY0n9dn6', truncated=False, display_text_range=[0, 142], entities={'hashtags': [{'text': 'virus', 'indices': [112, 118]}], 'symbols': [], 'user_mentions': [], 'urls': [{'url': 'https://t.co/B9BY0n9dn6', 'expanded_url': 'https://bhive.nectar.social/5zD7J7', 'display_url': 'bhive.nectar.social/5zD7J7', 'indices': [119, 142]}]}, metadata={'iso_language_code': 'en', 'result_type': 'recent'}, source='BHIVE Nectar', source_url='https://nectar.social', in_reply_to_status_id=None, in_reply_to_status_id_str=None, in_reply_to_user_id=None, in_reply_to_user_id_str=None, in_reply_to_screen_name=None, author=User(_api=<tweepy.api.API object at 0x0000020D0115BBE0>, _json={'id': 1433847975713849344, 'id_str': '1433847975713849344', 'name': 'divnotes_tester', 'screen_name': 'DivnotesTester', 'location': '', 'description': \"https://t.co/7btlNp1NFw test account used for various API and integration testing for various projects. Please don't follow us here - find us @divnotes\", 'url': None, 'entities': {'description': {'urls': [{'url': 'https://t.co/7btlNp1NFw', 'expanded_url': 'http://DivNotes.com', 'display_url': 'DivNotes.com', 'indices': [0, 23]}]}}, 'protected': False, 'followers_count': 3, 'friends_count': 1, 'listed_count': 0, 'created_at': 'Fri Sep 03 17:42:56 +0000 2021', 'favourites_count': 1, 'utc_offset': None, 'time_zone': None, 'geo_enabled': False, 'verified': False, 'statuses_count': 2916, 'lang': None, 'contributors_enabled': False, 'is_translator': False, 'is_translation_enabled': False, 'profile_background_color': 'F5F8FA', 'profile_background_image_url': None, 'profile_background_image_url_https': None, 'profile_background_tile': False, 'profile_image_url': 'http://pbs.twimg.com/profile_images/1433848189791113223/ya3Qgomz_normal.jpg', 'profile_image_url_https': 'https://pbs.twimg.com/profile_images/1433848189791113223/ya3Qgomz_normal.jpg', 'profile_link_color': '1DA1F2', 'profile_sidebar_border_color': 'C0DEED', 'profile_sidebar_fill_color': 'DDEEF6', 'profile_text_color': '333333', 'profile_use_background_image': True, 'has_extended_profile': True, 'default_profile': True, 'default_profile_image': False, 'following': False, 'follow_request_sent': False, 'notifications': False, 'translator_type': 'none', 'withheld_in_countries': []}, id=1433847975713849344, id_str='1433847975713849344', name='divnotes_tester', screen_name='DivnotesTester', location='', description=\"https://t.co/7btlNp1NFw test account used for various API and integration testing for various projects. Please don't follow us here - find us @divnotes\", url=None, entities={'description': {'urls': [{'url': 'https://t.co/7btlNp1NFw', 'expanded_url': 'http://DivNotes.com', 'display_url': 'DivNotes.com', 'indices': [0, 23]}]}}, protected=False, followers_count=3, friends_count=1, listed_count=0, created_at=datetime.datetime(2021, 9, 3, 17, 42, 56, tzinfo=datetime.timezone.utc), favourites_count=1, utc_offset=None, time_zone=None, geo_enabled=False, verified=False, statuses_count=2916, lang=None, contributors_enabled=False, is_translator=False, is_translation_enabled=False, profile_background_color='F5F8FA', profile_background_image_url=None, profile_background_image_url_https=None, profile_background_tile=False, profile_image_url='http://pbs.twimg.com/profile_images/1433848189791113223/ya3Qgomz_normal.jpg', profile_image_url_https='https://pbs.twimg.com/profile_images/1433848189791113223/ya3Qgomz_normal.jpg', profile_link_color='1DA1F2', profile_sidebar_border_color='C0DEED', profile_sidebar_fill_color='DDEEF6', profile_text_color='333333', profile_use_background_image=True, has_extended_profile=True, default_profile=True, default_profile_image=False, following=False, follow_request_sent=False, notifications=False, translator_type='none', withheld_in_countries=[]), user=User(_api=<tweepy.api.API object at 0x0000020D0115BBE0>, _json={'id': 1433847975713849344, 'id_str': '1433847975713849344', 'name': 'divnotes_tester', 'screen_name': 'DivnotesTester', 'location': '', 'description': \"https://t.co/7btlNp1NFw test account used for various API and integration testing for various projects. Please don't follow us here - find us @divnotes\", 'url': None, 'entities': {'description': {'urls': [{'url': 'https://t.co/7btlNp1NFw', 'expanded_url': 'http://DivNotes.com', 'display_url': 'DivNotes.com', 'indices': [0, 23]}]}}, 'protected': False, 'followers_count': 3, 'friends_count': 1, 'listed_count': 0, 'created_at': 'Fri Sep 03 17:42:56 +0000 2021', 'favourites_count': 1, 'utc_offset': None, 'time_zone': None, 'geo_enabled': False, 'verified': False, 'statuses_count': 2916, 'lang': None, 'contributors_enabled': False, 'is_translator': False, 'is_translation_enabled': False, 'profile_background_color': 'F5F8FA', 'profile_background_image_url': None, 'profile_background_image_url_https': None, 'profile_background_tile': False, 'profile_image_url': 'http://pbs.twimg.com/profile_images/1433848189791113223/ya3Qgomz_normal.jpg', 'profile_image_url_https': 'https://pbs.twimg.com/profile_images/1433848189791113223/ya3Qgomz_normal.jpg', 'profile_link_color': '1DA1F2', 'profile_sidebar_border_color': 'C0DEED', 'profile_sidebar_fill_color': 'DDEEF6', 'profile_text_color': '333333', 'profile_use_background_image': True, 'has_extended_profile': True, 'default_profile': True, 'default_profile_image': False, 'following': False, 'follow_request_sent': False, 'notifications': False, 'translator_type': 'none', 'withheld_in_countries': []}, id=1433847975713849344, id_str='1433847975713849344', name='divnotes_tester', screen_name='DivnotesTester', location='', description=\"https://t.co/7btlNp1NFw test account used for various API and integration testing for various projects. Please don't follow us here - find us @divnotes\", url=None, entities={'description': {'urls': [{'url': 'https://t.co/7btlNp1NFw', 'expanded_url': 'http://DivNotes.com', 'display_url': 'DivNotes.com', 'indices': [0, 23]}]}}, protected=False, followers_count=3, friends_count=1, listed_count=0, created_at=datetime.datetime(2021, 9, 3, 17, 42, 56, tzinfo=datetime.timezone.utc), favourites_count=1, utc_offset=None, time_zone=None, geo_enabled=False, verified=False, statuses_count=2916, lang=None, contributors_enabled=False, is_translator=False, is_translation_enabled=False, profile_background_color='F5F8FA', profile_background_image_url=None, profile_background_image_url_https=None, profile_background_tile=False, profile_image_url='http://pbs.twimg.com/profile_images/1433848189791113223/ya3Qgomz_normal.jpg', profile_image_url_https='https://pbs.twimg.com/profile_images/1433848189791113223/ya3Qgomz_normal.jpg', profile_link_color='1DA1F2', profile_sidebar_border_color='C0DEED', profile_sidebar_fill_color='DDEEF6', profile_text_color='333333', profile_use_background_image=True, has_extended_profile=True, default_profile=True, default_profile_image=False, following=False, follow_request_sent=False, notifications=False, translator_type='none', withheld_in_countries=[]), geo=None, coordinates=None, place=None, contributors=None, is_quote_status=False, retweet_count=0, favorite_count=0, favorited=False, retweeted=False, possibly_sensitive=False, lang='en')\n",
      "===================================================================================\n",
      "Status(_api=<tweepy.api.API object at 0x0000020D0115BBE0>, _json={'created_at': 'Thu Jul 14 16:37:36 +0000 2022', 'id': 1547621344669421568, 'id_str': '1547621344669421568', 'full_text': \"We're answering your COVID-19 questions today with Dr. Peter Chin-Hong (@PCH_SF) of @UCSFMedicine.\\n\\nSend us your questions/comments at @AirTalk. You can also call or email atcomments@kpcc.org https://t.co/GLAFQyfsdt\", 'truncated': False, 'display_text_range': [0, 191], 'entities': {'hashtags': [], 'symbols': [], 'user_mentions': [{'screen_name': 'PCH_SF', 'name': 'Peter Chin-Hong MD', 'id': 3253705459, 'id_str': '3253705459', 'indices': [72, 79]}, {'screen_name': 'UCSFMedicine', 'name': 'UCSF School of Medicine', 'id': 64862896, 'id_str': '64862896', 'indices': [84, 97]}, {'screen_name': 'AirTalk', 'name': 'AirTalk with Larry Mantle', 'id': 55640472, 'id_str': '55640472', 'indices': [135, 143]}], 'urls': [], 'media': [{'id': 1547620722222149632, 'id_str': '1547620722222149632', 'indices': [192, 215], 'media_url': 'http://pbs.twimg.com/media/FXpA2OMVsAAt8n0.jpg', 'media_url_https': 'https://pbs.twimg.com/media/FXpA2OMVsAAt8n0.jpg', 'url': 'https://t.co/GLAFQyfsdt', 'display_url': 'pic.twitter.com/GLAFQyfsdt', 'expanded_url': 'https://twitter.com/AirTalk/status/1547621344669421568/photo/1', 'type': 'photo', 'sizes': {'thumb': {'w': 150, 'h': 150, 'resize': 'crop'}, 'small': {'w': 680, 'h': 383, 'resize': 'fit'}, 'medium': {'w': 1200, 'h': 675, 'resize': 'fit'}, 'large': {'w': 1600, 'h': 900, 'resize': 'fit'}}}]}, 'extended_entities': {'media': [{'id': 1547620722222149632, 'id_str': '1547620722222149632', 'indices': [192, 215], 'media_url': 'http://pbs.twimg.com/media/FXpA2OMVsAAt8n0.jpg', 'media_url_https': 'https://pbs.twimg.com/media/FXpA2OMVsAAt8n0.jpg', 'url': 'https://t.co/GLAFQyfsdt', 'display_url': 'pic.twitter.com/GLAFQyfsdt', 'expanded_url': 'https://twitter.com/AirTalk/status/1547621344669421568/photo/1', 'type': 'photo', 'sizes': {'thumb': {'w': 150, 'h': 150, 'resize': 'crop'}, 'small': {'w': 680, 'h': 383, 'resize': 'fit'}, 'medium': {'w': 1200, 'h': 675, 'resize': 'fit'}, 'large': {'w': 1600, 'h': 900, 'resize': 'fit'}}}]}, 'metadata': {'iso_language_code': 'en', 'result_type': 'recent'}, 'source': '<a href=\"https://mobile.twitter.com\" rel=\"nofollow\">Twitter Web App</a>', 'in_reply_to_status_id': None, 'in_reply_to_status_id_str': None, 'in_reply_to_user_id': None, 'in_reply_to_user_id_str': None, 'in_reply_to_screen_name': None, 'user': {'id': 55640472, 'id_str': '55640472', 'name': 'AirTalk with Larry Mantle', 'screen_name': 'AirTalk', 'location': 'Los Angeles, CA', 'description': 'Lively, in-depth discussions of news, politics, science, arts, entertainment & more. Weigh in at 866-893-5722 or email atcomments@kpcc.org. Produced by @KPCC.', 'url': 'https://t.co/gAQQPOeHJr', 'entities': {'url': {'urls': [{'url': 'https://t.co/gAQQPOeHJr', 'expanded_url': 'https://www.kpcc.org/show/airtalk', 'display_url': 'kpcc.org/show/airtalk', 'indices': [0, 23]}]}, 'description': {'urls': []}}, 'protected': False, 'followers_count': 13864, 'friends_count': 2103, 'listed_count': 359, 'created_at': 'Fri Jul 10 19:17:39 +0000 2009', 'favourites_count': 2645, 'utc_offset': None, 'time_zone': None, 'geo_enabled': True, 'verified': True, 'statuses_count': 42100, 'lang': None, 'contributors_enabled': False, 'is_translator': False, 'is_translation_enabled': False, 'profile_background_color': 'CCD1D7', 'profile_background_image_url': 'http://abs.twimg.com/images/themes/theme7/bg.gif', 'profile_background_image_url_https': 'https://abs.twimg.com/images/themes/theme7/bg.gif', 'profile_background_tile': False, 'profile_image_url': 'http://pbs.twimg.com/profile_images/988898367072747520/5HX1OAL9_normal.jpg', 'profile_image_url_https': 'https://pbs.twimg.com/profile_images/988898367072747520/5HX1OAL9_normal.jpg', 'profile_banner_url': 'https://pbs.twimg.com/profile_banners/55640472/1531162522', 'profile_link_color': 'FF691F', 'profile_sidebar_border_color': 'DFDFDF', 'profile_sidebar_fill_color': 'F3F3F3', 'profile_text_color': '333333', 'profile_use_background_image': True, 'has_extended_profile': False, 'default_profile': False, 'default_profile_image': False, 'following': False, 'follow_request_sent': False, 'notifications': False, 'translator_type': 'none', 'withheld_in_countries': []}, 'geo': None, 'coordinates': None, 'place': None, 'contributors': None, 'is_quote_status': False, 'retweet_count': 0, 'favorite_count': 0, 'favorited': False, 'retweeted': False, 'possibly_sensitive': False, 'lang': 'en'}, created_at=datetime.datetime(2022, 7, 14, 16, 37, 36, tzinfo=datetime.timezone.utc), id=1547621344669421568, id_str='1547621344669421568', full_text=\"We're answering your COVID-19 questions today with Dr. Peter Chin-Hong (@PCH_SF) of @UCSFMedicine.\\n\\nSend us your questions/comments at @AirTalk. You can also call or email atcomments@kpcc.org https://t.co/GLAFQyfsdt\", truncated=False, display_text_range=[0, 191], entities={'hashtags': [], 'symbols': [], 'user_mentions': [{'screen_name': 'PCH_SF', 'name': 'Peter Chin-Hong MD', 'id': 3253705459, 'id_str': '3253705459', 'indices': [72, 79]}, {'screen_name': 'UCSFMedicine', 'name': 'UCSF School of Medicine', 'id': 64862896, 'id_str': '64862896', 'indices': [84, 97]}, {'screen_name': 'AirTalk', 'name': 'AirTalk with Larry Mantle', 'id': 55640472, 'id_str': '55640472', 'indices': [135, 143]}], 'urls': [], 'media': [{'id': 1547620722222149632, 'id_str': '1547620722222149632', 'indices': [192, 215], 'media_url': 'http://pbs.twimg.com/media/FXpA2OMVsAAt8n0.jpg', 'media_url_https': 'https://pbs.twimg.com/media/FXpA2OMVsAAt8n0.jpg', 'url': 'https://t.co/GLAFQyfsdt', 'display_url': 'pic.twitter.com/GLAFQyfsdt', 'expanded_url': 'https://twitter.com/AirTalk/status/1547621344669421568/photo/1', 'type': 'photo', 'sizes': {'thumb': {'w': 150, 'h': 150, 'resize': 'crop'}, 'small': {'w': 680, 'h': 383, 'resize': 'fit'}, 'medium': {'w': 1200, 'h': 675, 'resize': 'fit'}, 'large': {'w': 1600, 'h': 900, 'resize': 'fit'}}}]}, extended_entities={'media': [{'id': 1547620722222149632, 'id_str': '1547620722222149632', 'indices': [192, 215], 'media_url': 'http://pbs.twimg.com/media/FXpA2OMVsAAt8n0.jpg', 'media_url_https': 'https://pbs.twimg.com/media/FXpA2OMVsAAt8n0.jpg', 'url': 'https://t.co/GLAFQyfsdt', 'display_url': 'pic.twitter.com/GLAFQyfsdt', 'expanded_url': 'https://twitter.com/AirTalk/status/1547621344669421568/photo/1', 'type': 'photo', 'sizes': {'thumb': {'w': 150, 'h': 150, 'resize': 'crop'}, 'small': {'w': 680, 'h': 383, 'resize': 'fit'}, 'medium': {'w': 1200, 'h': 675, 'resize': 'fit'}, 'large': {'w': 1600, 'h': 900, 'resize': 'fit'}}}]}, metadata={'iso_language_code': 'en', 'result_type': 'recent'}, source='Twitter Web App', source_url='https://mobile.twitter.com', in_reply_to_status_id=None, in_reply_to_status_id_str=None, in_reply_to_user_id=None, in_reply_to_user_id_str=None, in_reply_to_screen_name=None, author=User(_api=<tweepy.api.API object at 0x0000020D0115BBE0>, _json={'id': 55640472, 'id_str': '55640472', 'name': 'AirTalk with Larry Mantle', 'screen_name': 'AirTalk', 'location': 'Los Angeles, CA', 'description': 'Lively, in-depth discussions of news, politics, science, arts, entertainment & more. Weigh in at 866-893-5722 or email atcomments@kpcc.org. Produced by @KPCC.', 'url': 'https://t.co/gAQQPOeHJr', 'entities': {'url': {'urls': [{'url': 'https://t.co/gAQQPOeHJr', 'expanded_url': 'https://www.kpcc.org/show/airtalk', 'display_url': 'kpcc.org/show/airtalk', 'indices': [0, 23]}]}, 'description': {'urls': []}}, 'protected': False, 'followers_count': 13864, 'friends_count': 2103, 'listed_count': 359, 'created_at': 'Fri Jul 10 19:17:39 +0000 2009', 'favourites_count': 2645, 'utc_offset': None, 'time_zone': None, 'geo_enabled': True, 'verified': True, 'statuses_count': 42100, 'lang': None, 'contributors_enabled': False, 'is_translator': False, 'is_translation_enabled': False, 'profile_background_color': 'CCD1D7', 'profile_background_image_url': 'http://abs.twimg.com/images/themes/theme7/bg.gif', 'profile_background_image_url_https': 'https://abs.twimg.com/images/themes/theme7/bg.gif', 'profile_background_tile': False, 'profile_image_url': 'http://pbs.twimg.com/profile_images/988898367072747520/5HX1OAL9_normal.jpg', 'profile_image_url_https': 'https://pbs.twimg.com/profile_images/988898367072747520/5HX1OAL9_normal.jpg', 'profile_banner_url': 'https://pbs.twimg.com/profile_banners/55640472/1531162522', 'profile_link_color': 'FF691F', 'profile_sidebar_border_color': 'DFDFDF', 'profile_sidebar_fill_color': 'F3F3F3', 'profile_text_color': '333333', 'profile_use_background_image': True, 'has_extended_profile': False, 'default_profile': False, 'default_profile_image': False, 'following': False, 'follow_request_sent': False, 'notifications': False, 'translator_type': 'none', 'withheld_in_countries': []}, id=55640472, id_str='55640472', name='AirTalk with Larry Mantle', screen_name='AirTalk', location='Los Angeles, CA', description='Lively, in-depth discussions of news, politics, science, arts, entertainment & more. Weigh in at 866-893-5722 or email atcomments@kpcc.org. Produced by @KPCC.', url='https://t.co/gAQQPOeHJr', entities={'url': {'urls': [{'url': 'https://t.co/gAQQPOeHJr', 'expanded_url': 'https://www.kpcc.org/show/airtalk', 'display_url': 'kpcc.org/show/airtalk', 'indices': [0, 23]}]}, 'description': {'urls': []}}, protected=False, followers_count=13864, friends_count=2103, listed_count=359, created_at=datetime.datetime(2009, 7, 10, 19, 17, 39, tzinfo=datetime.timezone.utc), favourites_count=2645, utc_offset=None, time_zone=None, geo_enabled=True, verified=True, statuses_count=42100, lang=None, contributors_enabled=False, is_translator=False, is_translation_enabled=False, profile_background_color='CCD1D7', profile_background_image_url='http://abs.twimg.com/images/themes/theme7/bg.gif', profile_background_image_url_https='https://abs.twimg.com/images/themes/theme7/bg.gif', profile_background_tile=False, profile_image_url='http://pbs.twimg.com/profile_images/988898367072747520/5HX1OAL9_normal.jpg', profile_image_url_https='https://pbs.twimg.com/profile_images/988898367072747520/5HX1OAL9_normal.jpg', profile_banner_url='https://pbs.twimg.com/profile_banners/55640472/1531162522', profile_link_color='FF691F', profile_sidebar_border_color='DFDFDF', profile_sidebar_fill_color='F3F3F3', profile_text_color='333333', profile_use_background_image=True, has_extended_profile=False, default_profile=False, default_profile_image=False, following=False, follow_request_sent=False, notifications=False, translator_type='none', withheld_in_countries=[]), user=User(_api=<tweepy.api.API object at 0x0000020D0115BBE0>, _json={'id': 55640472, 'id_str': '55640472', 'name': 'AirTalk with Larry Mantle', 'screen_name': 'AirTalk', 'location': 'Los Angeles, CA', 'description': 'Lively, in-depth discussions of news, politics, science, arts, entertainment & more. Weigh in at 866-893-5722 or email atcomments@kpcc.org. Produced by @KPCC.', 'url': 'https://t.co/gAQQPOeHJr', 'entities': {'url': {'urls': [{'url': 'https://t.co/gAQQPOeHJr', 'expanded_url': 'https://www.kpcc.org/show/airtalk', 'display_url': 'kpcc.org/show/airtalk', 'indices': [0, 23]}]}, 'description': {'urls': []}}, 'protected': False, 'followers_count': 13864, 'friends_count': 2103, 'listed_count': 359, 'created_at': 'Fri Jul 10 19:17:39 +0000 2009', 'favourites_count': 2645, 'utc_offset': None, 'time_zone': None, 'geo_enabled': True, 'verified': True, 'statuses_count': 42100, 'lang': None, 'contributors_enabled': False, 'is_translator': False, 'is_translation_enabled': False, 'profile_background_color': 'CCD1D7', 'profile_background_image_url': 'http://abs.twimg.com/images/themes/theme7/bg.gif', 'profile_background_image_url_https': 'https://abs.twimg.com/images/themes/theme7/bg.gif', 'profile_background_tile': False, 'profile_image_url': 'http://pbs.twimg.com/profile_images/988898367072747520/5HX1OAL9_normal.jpg', 'profile_image_url_https': 'https://pbs.twimg.com/profile_images/988898367072747520/5HX1OAL9_normal.jpg', 'profile_banner_url': 'https://pbs.twimg.com/profile_banners/55640472/1531162522', 'profile_link_color': 'FF691F', 'profile_sidebar_border_color': 'DFDFDF', 'profile_sidebar_fill_color': 'F3F3F3', 'profile_text_color': '333333', 'profile_use_background_image': True, 'has_extended_profile': False, 'default_profile': False, 'default_profile_image': False, 'following': False, 'follow_request_sent': False, 'notifications': False, 'translator_type': 'none', 'withheld_in_countries': []}, id=55640472, id_str='55640472', name='AirTalk with Larry Mantle', screen_name='AirTalk', location='Los Angeles, CA', description='Lively, in-depth discussions of news, politics, science, arts, entertainment & more. Weigh in at 866-893-5722 or email atcomments@kpcc.org. Produced by @KPCC.', url='https://t.co/gAQQPOeHJr', entities={'url': {'urls': [{'url': 'https://t.co/gAQQPOeHJr', 'expanded_url': 'https://www.kpcc.org/show/airtalk', 'display_url': 'kpcc.org/show/airtalk', 'indices': [0, 23]}]}, 'description': {'urls': []}}, protected=False, followers_count=13864, friends_count=2103, listed_count=359, created_at=datetime.datetime(2009, 7, 10, 19, 17, 39, tzinfo=datetime.timezone.utc), favourites_count=2645, utc_offset=None, time_zone=None, geo_enabled=True, verified=True, statuses_count=42100, lang=None, contributors_enabled=False, is_translator=False, is_translation_enabled=False, profile_background_color='CCD1D7', profile_background_image_url='http://abs.twimg.com/images/themes/theme7/bg.gif', profile_background_image_url_https='https://abs.twimg.com/images/themes/theme7/bg.gif', profile_background_tile=False, profile_image_url='http://pbs.twimg.com/profile_images/988898367072747520/5HX1OAL9_normal.jpg', profile_image_url_https='https://pbs.twimg.com/profile_images/988898367072747520/5HX1OAL9_normal.jpg', profile_banner_url='https://pbs.twimg.com/profile_banners/55640472/1531162522', profile_link_color='FF691F', profile_sidebar_border_color='DFDFDF', profile_sidebar_fill_color='F3F3F3', profile_text_color='333333', profile_use_background_image=True, has_extended_profile=False, default_profile=False, default_profile_image=False, following=False, follow_request_sent=False, notifications=False, translator_type='none', withheld_in_countries=[]), geo=None, coordinates=None, place=None, contributors=None, is_quote_status=False, retweet_count=0, favorite_count=0, favorited=False, retweeted=False, possibly_sensitive=False, lang='en')\n",
      "===================================================================================\n",
      "Status(_api=<tweepy.api.API object at 0x0000020D0115BBE0>, _json={'created_at': 'Thu Jul 14 16:37:18 +0000 2022', 'id': 1547621267653607426, 'id_str': '1547621267653607426', 'full_text': \"@MarcusBeam1 @nothankuthanx @CDCgov They don't counter it.\\n\\nAnd research facilities like UC Davis Medical? Here is their website. \\n\\nLong COVID clinic (they are partially state funded, as far as I know): https://t.co/8qaWCpvB0r https://t.co/IzY6wkToOJ\", 'truncated': False, 'display_text_range': [36, 226], 'entities': {'hashtags': [], 'symbols': [], 'user_mentions': [{'screen_name': 'MarcusBeam1', 'name': 'Marcus Beam', 'id': 1241182129326825472, 'id_str': '1241182129326825472', 'indices': [0, 12]}, {'screen_name': 'nothankuthanx', 'name': 'Dana II (Formerly Dana the Safety Goblin)', 'id': 1521977793386401792, 'id_str': '1521977793386401792', 'indices': [13, 27]}, {'screen_name': 'CDCgov', 'name': 'CDC', 'id': 146569971, 'id_str': '146569971', 'indices': [28, 35]}], 'urls': [{'url': 'https://t.co/8qaWCpvB0r', 'expanded_url': 'https://health.ucdavis.edu/internalmedicine/pulmonary/post-covid-19-clinic.html', 'display_url': 'health.ucdavis.edu/internalmedici…', 'indices': [203, 226]}], 'media': [{'id': 1547621264717598722, 'id_str': '1547621264717598722', 'indices': [227, 250], 'media_url': 'http://pbs.twimg.com/media/FXpBVzJVUAINt1g.jpg', 'media_url_https': 'https://pbs.twimg.com/media/FXpBVzJVUAINt1g.jpg', 'url': 'https://t.co/IzY6wkToOJ', 'display_url': 'pic.twitter.com/IzY6wkToOJ', 'expanded_url': 'https://twitter.com/MmeBlackBalloon/status/1547621267653607426/photo/1', 'type': 'photo', 'sizes': {'thumb': {'w': 150, 'h': 150, 'resize': 'crop'}, 'small': {'w': 405, 'h': 680, 'resize': 'fit'}, 'medium': {'w': 715, 'h': 1200, 'resize': 'fit'}, 'large': {'w': 1080, 'h': 1813, 'resize': 'fit'}}}]}, 'extended_entities': {'media': [{'id': 1547621264717598722, 'id_str': '1547621264717598722', 'indices': [227, 250], 'media_url': 'http://pbs.twimg.com/media/FXpBVzJVUAINt1g.jpg', 'media_url_https': 'https://pbs.twimg.com/media/FXpBVzJVUAINt1g.jpg', 'url': 'https://t.co/IzY6wkToOJ', 'display_url': 'pic.twitter.com/IzY6wkToOJ', 'expanded_url': 'https://twitter.com/MmeBlackBalloon/status/1547621267653607426/photo/1', 'type': 'photo', 'sizes': {'thumb': {'w': 150, 'h': 150, 'resize': 'crop'}, 'small': {'w': 405, 'h': 680, 'resize': 'fit'}, 'medium': {'w': 715, 'h': 1200, 'resize': 'fit'}, 'large': {'w': 1080, 'h': 1813, 'resize': 'fit'}}}]}, 'metadata': {'iso_language_code': 'en', 'result_type': 'recent'}, 'source': '<a href=\"http://twitter.com/download/android\" rel=\"nofollow\">Twitter for Android</a>', 'in_reply_to_status_id': 1547618446082334720, 'in_reply_to_status_id_str': '1547618446082334720', 'in_reply_to_user_id': 1241182129326825472, 'in_reply_to_user_id_str': '1241182129326825472', 'in_reply_to_screen_name': 'MarcusBeam1', 'user': {'id': 1433676113658593283, 'id_str': '1433676113658593283', 'name': 'Number 99', 'screen_name': 'MmeBlackBalloon', 'location': 'California, USA', 'description': 'Academic interested in Literature, tea, cats. D&D alignment = chaotic neutral. Refusenik. Iconoclast w/ purposefully vague bio. Here for #COVID + #Ukraine', 'url': None, 'entities': {'description': {'urls': []}}, 'protected': False, 'followers_count': 649, 'friends_count': 540, 'listed_count': 2, 'created_at': 'Fri Sep 03 06:20:09 +0000 2021', 'favourites_count': 67366, 'utc_offset': None, 'time_zone': None, 'geo_enabled': False, 'verified': False, 'statuses_count': 10438, 'lang': None, 'contributors_enabled': False, 'is_translator': False, 'is_translation_enabled': False, 'profile_background_color': 'F5F8FA', 'profile_background_image_url': None, 'profile_background_image_url_https': None, 'profile_background_tile': False, 'profile_image_url': 'http://pbs.twimg.com/profile_images/1495138838091501569/M0kpkDjD_normal.jpg', 'profile_image_url_https': 'https://pbs.twimg.com/profile_images/1495138838091501569/M0kpkDjD_normal.jpg', 'profile_banner_url': 'https://pbs.twimg.com/profile_banners/1433676113658593283/1640063766', 'profile_link_color': '1DA1F2', 'profile_sidebar_border_color': 'C0DEED', 'profile_sidebar_fill_color': 'DDEEF6', 'profile_text_color': '333333', 'profile_use_background_image': True, 'has_extended_profile': True, 'default_profile': True, 'default_profile_image': False, 'following': False, 'follow_request_sent': False, 'notifications': False, 'translator_type': 'none', 'withheld_in_countries': []}, 'geo': None, 'coordinates': None, 'place': None, 'contributors': None, 'is_quote_status': False, 'retweet_count': 0, 'favorite_count': 0, 'favorited': False, 'retweeted': False, 'possibly_sensitive': False, 'lang': 'en'}, created_at=datetime.datetime(2022, 7, 14, 16, 37, 18, tzinfo=datetime.timezone.utc), id=1547621267653607426, id_str='1547621267653607426', full_text=\"@MarcusBeam1 @nothankuthanx @CDCgov They don't counter it.\\n\\nAnd research facilities like UC Davis Medical? Here is their website. \\n\\nLong COVID clinic (they are partially state funded, as far as I know): https://t.co/8qaWCpvB0r https://t.co/IzY6wkToOJ\", truncated=False, display_text_range=[36, 226], entities={'hashtags': [], 'symbols': [], 'user_mentions': [{'screen_name': 'MarcusBeam1', 'name': 'Marcus Beam', 'id': 1241182129326825472, 'id_str': '1241182129326825472', 'indices': [0, 12]}, {'screen_name': 'nothankuthanx', 'name': 'Dana II (Formerly Dana the Safety Goblin)', 'id': 1521977793386401792, 'id_str': '1521977793386401792', 'indices': [13, 27]}, {'screen_name': 'CDCgov', 'name': 'CDC', 'id': 146569971, 'id_str': '146569971', 'indices': [28, 35]}], 'urls': [{'url': 'https://t.co/8qaWCpvB0r', 'expanded_url': 'https://health.ucdavis.edu/internalmedicine/pulmonary/post-covid-19-clinic.html', 'display_url': 'health.ucdavis.edu/internalmedici…', 'indices': [203, 226]}], 'media': [{'id': 1547621264717598722, 'id_str': '1547621264717598722', 'indices': [227, 250], 'media_url': 'http://pbs.twimg.com/media/FXpBVzJVUAINt1g.jpg', 'media_url_https': 'https://pbs.twimg.com/media/FXpBVzJVUAINt1g.jpg', 'url': 'https://t.co/IzY6wkToOJ', 'display_url': 'pic.twitter.com/IzY6wkToOJ', 'expanded_url': 'https://twitter.com/MmeBlackBalloon/status/1547621267653607426/photo/1', 'type': 'photo', 'sizes': {'thumb': {'w': 150, 'h': 150, 'resize': 'crop'}, 'small': {'w': 405, 'h': 680, 'resize': 'fit'}, 'medium': {'w': 715, 'h': 1200, 'resize': 'fit'}, 'large': {'w': 1080, 'h': 1813, 'resize': 'fit'}}}]}, extended_entities={'media': [{'id': 1547621264717598722, 'id_str': '1547621264717598722', 'indices': [227, 250], 'media_url': 'http://pbs.twimg.com/media/FXpBVzJVUAINt1g.jpg', 'media_url_https': 'https://pbs.twimg.com/media/FXpBVzJVUAINt1g.jpg', 'url': 'https://t.co/IzY6wkToOJ', 'display_url': 'pic.twitter.com/IzY6wkToOJ', 'expanded_url': 'https://twitter.com/MmeBlackBalloon/status/1547621267653607426/photo/1', 'type': 'photo', 'sizes': {'thumb': {'w': 150, 'h': 150, 'resize': 'crop'}, 'small': {'w': 405, 'h': 680, 'resize': 'fit'}, 'medium': {'w': 715, 'h': 1200, 'resize': 'fit'}, 'large': {'w': 1080, 'h': 1813, 'resize': 'fit'}}}]}, metadata={'iso_language_code': 'en', 'result_type': 'recent'}, source='Twitter for Android', source_url='http://twitter.com/download/android', in_reply_to_status_id=1547618446082334720, in_reply_to_status_id_str='1547618446082334720', in_reply_to_user_id=1241182129326825472, in_reply_to_user_id_str='1241182129326825472', in_reply_to_screen_name='MarcusBeam1', author=User(_api=<tweepy.api.API object at 0x0000020D0115BBE0>, _json={'id': 1433676113658593283, 'id_str': '1433676113658593283', 'name': 'Number 99', 'screen_name': 'MmeBlackBalloon', 'location': 'California, USA', 'description': 'Academic interested in Literature, tea, cats. D&D alignment = chaotic neutral. Refusenik. Iconoclast w/ purposefully vague bio. Here for #COVID + #Ukraine', 'url': None, 'entities': {'description': {'urls': []}}, 'protected': False, 'followers_count': 649, 'friends_count': 540, 'listed_count': 2, 'created_at': 'Fri Sep 03 06:20:09 +0000 2021', 'favourites_count': 67366, 'utc_offset': None, 'time_zone': None, 'geo_enabled': False, 'verified': False, 'statuses_count': 10438, 'lang': None, 'contributors_enabled': False, 'is_translator': False, 'is_translation_enabled': False, 'profile_background_color': 'F5F8FA', 'profile_background_image_url': None, 'profile_background_image_url_https': None, 'profile_background_tile': False, 'profile_image_url': 'http://pbs.twimg.com/profile_images/1495138838091501569/M0kpkDjD_normal.jpg', 'profile_image_url_https': 'https://pbs.twimg.com/profile_images/1495138838091501569/M0kpkDjD_normal.jpg', 'profile_banner_url': 'https://pbs.twimg.com/profile_banners/1433676113658593283/1640063766', 'profile_link_color': '1DA1F2', 'profile_sidebar_border_color': 'C0DEED', 'profile_sidebar_fill_color': 'DDEEF6', 'profile_text_color': '333333', 'profile_use_background_image': True, 'has_extended_profile': True, 'default_profile': True, 'default_profile_image': False, 'following': False, 'follow_request_sent': False, 'notifications': False, 'translator_type': 'none', 'withheld_in_countries': []}, id=1433676113658593283, id_str='1433676113658593283', name='Number 99', screen_name='MmeBlackBalloon', location='California, USA', description='Academic interested in Literature, tea, cats. D&D alignment = chaotic neutral. Refusenik. Iconoclast w/ purposefully vague bio. Here for #COVID + #Ukraine', url=None, entities={'description': {'urls': []}}, protected=False, followers_count=649, friends_count=540, listed_count=2, created_at=datetime.datetime(2021, 9, 3, 6, 20, 9, tzinfo=datetime.timezone.utc), favourites_count=67366, utc_offset=None, time_zone=None, geo_enabled=False, verified=False, statuses_count=10438, lang=None, contributors_enabled=False, is_translator=False, is_translation_enabled=False, profile_background_color='F5F8FA', profile_background_image_url=None, profile_background_image_url_https=None, profile_background_tile=False, profile_image_url='http://pbs.twimg.com/profile_images/1495138838091501569/M0kpkDjD_normal.jpg', profile_image_url_https='https://pbs.twimg.com/profile_images/1495138838091501569/M0kpkDjD_normal.jpg', profile_banner_url='https://pbs.twimg.com/profile_banners/1433676113658593283/1640063766', profile_link_color='1DA1F2', profile_sidebar_border_color='C0DEED', profile_sidebar_fill_color='DDEEF6', profile_text_color='333333', profile_use_background_image=True, has_extended_profile=True, default_profile=True, default_profile_image=False, following=False, follow_request_sent=False, notifications=False, translator_type='none', withheld_in_countries=[]), user=User(_api=<tweepy.api.API object at 0x0000020D0115BBE0>, _json={'id': 1433676113658593283, 'id_str': '1433676113658593283', 'name': 'Number 99', 'screen_name': 'MmeBlackBalloon', 'location': 'California, USA', 'description': 'Academic interested in Literature, tea, cats. D&D alignment = chaotic neutral. Refusenik. Iconoclast w/ purposefully vague bio. Here for #COVID + #Ukraine', 'url': None, 'entities': {'description': {'urls': []}}, 'protected': False, 'followers_count': 649, 'friends_count': 540, 'listed_count': 2, 'created_at': 'Fri Sep 03 06:20:09 +0000 2021', 'favourites_count': 67366, 'utc_offset': None, 'time_zone': None, 'geo_enabled': False, 'verified': False, 'statuses_count': 10438, 'lang': None, 'contributors_enabled': False, 'is_translator': False, 'is_translation_enabled': False, 'profile_background_color': 'F5F8FA', 'profile_background_image_url': None, 'profile_background_image_url_https': None, 'profile_background_tile': False, 'profile_image_url': 'http://pbs.twimg.com/profile_images/1495138838091501569/M0kpkDjD_normal.jpg', 'profile_image_url_https': 'https://pbs.twimg.com/profile_images/1495138838091501569/M0kpkDjD_normal.jpg', 'profile_banner_url': 'https://pbs.twimg.com/profile_banners/1433676113658593283/1640063766', 'profile_link_color': '1DA1F2', 'profile_sidebar_border_color': 'C0DEED', 'profile_sidebar_fill_color': 'DDEEF6', 'profile_text_color': '333333', 'profile_use_background_image': True, 'has_extended_profile': True, 'default_profile': True, 'default_profile_image': False, 'following': False, 'follow_request_sent': False, 'notifications': False, 'translator_type': 'none', 'withheld_in_countries': []}, id=1433676113658593283, id_str='1433676113658593283', name='Number 99', screen_name='MmeBlackBalloon', location='California, USA', description='Academic interested in Literature, tea, cats. D&D alignment = chaotic neutral. Refusenik. Iconoclast w/ purposefully vague bio. Here for #COVID + #Ukraine', url=None, entities={'description': {'urls': []}}, protected=False, followers_count=649, friends_count=540, listed_count=2, created_at=datetime.datetime(2021, 9, 3, 6, 20, 9, tzinfo=datetime.timezone.utc), favourites_count=67366, utc_offset=None, time_zone=None, geo_enabled=False, verified=False, statuses_count=10438, lang=None, contributors_enabled=False, is_translator=False, is_translation_enabled=False, profile_background_color='F5F8FA', profile_background_image_url=None, profile_background_image_url_https=None, profile_background_tile=False, profile_image_url='http://pbs.twimg.com/profile_images/1495138838091501569/M0kpkDjD_normal.jpg', profile_image_url_https='https://pbs.twimg.com/profile_images/1495138838091501569/M0kpkDjD_normal.jpg', profile_banner_url='https://pbs.twimg.com/profile_banners/1433676113658593283/1640063766', profile_link_color='1DA1F2', profile_sidebar_border_color='C0DEED', profile_sidebar_fill_color='DDEEF6', profile_text_color='333333', profile_use_background_image=True, has_extended_profile=True, default_profile=True, default_profile_image=False, following=False, follow_request_sent=False, notifications=False, translator_type='none', withheld_in_countries=[]), geo=None, coordinates=None, place=None, contributors=None, is_quote_status=False, retweet_count=0, favorite_count=0, favorited=False, retweeted=False, possibly_sensitive=False, lang='en')\n",
      "===================================================================================\n",
      "Status(_api=<tweepy.api.API object at 0x0000020D0115BBE0>, _json={'created_at': 'Thu Jul 14 16:37:10 +0000 2022', 'id': 1547621235206471682, 'id_str': '1547621235206471682', 'full_text': 'Which covid-19 vaccine saved the most lives in 2021?\\n\\nAn estimate..\\n https://t.co/w4IKBGhRx5', 'truncated': False, 'display_text_range': [0, 92], 'entities': {'hashtags': [], 'symbols': [], 'user_mentions': [], 'urls': [{'url': 'https://t.co/w4IKBGhRx5', 'expanded_url': 'https://www.economist.com/graphic-detail/2022/07/13/which-covid-19-vaccine-saved-the-most-lives-in-2021', 'display_url': 'economist.com/graphic-detail…', 'indices': [69, 92]}]}, 'metadata': {'iso_language_code': 'en', 'result_type': 'recent'}, 'source': '<a href=\"http://twitter.com/download/android\" rel=\"nofollow\">Twitter for Android</a>', 'in_reply_to_status_id': None, 'in_reply_to_status_id_str': None, 'in_reply_to_user_id': None, 'in_reply_to_user_id_str': None, 'in_reply_to_screen_name': None, 'user': {'id': 621064274, 'id_str': '621064274', 'name': 'Dr Agnes Soucat', 'screen_name': 'asoucat', 'location': 'Paris, France', 'description': 'MD, MPH, PhD Health Economics, Health Systems, Governance, Financing\\n\\nsoucata@afd.fr\\n\\nPassionate about equity, freedom, human rights. RT not endorsement', 'url': None, 'entities': {'description': {'urls': []}}, 'protected': False, 'followers_count': 8083, 'friends_count': 2698, 'listed_count': 153, 'created_at': 'Thu Jun 28 15:13:37 +0000 2012', 'favourites_count': 1391, 'utc_offset': None, 'time_zone': None, 'geo_enabled': True, 'verified': True, 'statuses_count': 34953, 'lang': None, 'contributors_enabled': False, 'is_translator': False, 'is_translation_enabled': False, 'profile_background_color': 'C0DEED', 'profile_background_image_url': 'http://abs.twimg.com/images/themes/theme1/bg.png', 'profile_background_image_url_https': 'https://abs.twimg.com/images/themes/theme1/bg.png', 'profile_background_tile': False, 'profile_image_url': 'http://pbs.twimg.com/profile_images/1404523804878049280/4bQ47Amx_normal.jpg', 'profile_image_url_https': 'https://pbs.twimg.com/profile_images/1404523804878049280/4bQ47Amx_normal.jpg', 'profile_banner_url': 'https://pbs.twimg.com/profile_banners/621064274/1449718953', 'profile_link_color': '1DA1F2', 'profile_sidebar_border_color': 'C0DEED', 'profile_sidebar_fill_color': 'DDEEF6', 'profile_text_color': '333333', 'profile_use_background_image': True, 'has_extended_profile': True, 'default_profile': True, 'default_profile_image': False, 'following': False, 'follow_request_sent': False, 'notifications': False, 'translator_type': 'none', 'withheld_in_countries': []}, 'geo': None, 'coordinates': None, 'place': None, 'contributors': None, 'is_quote_status': False, 'retweet_count': 0, 'favorite_count': 0, 'favorited': False, 'retweeted': False, 'possibly_sensitive': False, 'lang': 'en'}, created_at=datetime.datetime(2022, 7, 14, 16, 37, 10, tzinfo=datetime.timezone.utc), id=1547621235206471682, id_str='1547621235206471682', full_text='Which covid-19 vaccine saved the most lives in 2021?\\n\\nAn estimate..\\n https://t.co/w4IKBGhRx5', truncated=False, display_text_range=[0, 92], entities={'hashtags': [], 'symbols': [], 'user_mentions': [], 'urls': [{'url': 'https://t.co/w4IKBGhRx5', 'expanded_url': 'https://www.economist.com/graphic-detail/2022/07/13/which-covid-19-vaccine-saved-the-most-lives-in-2021', 'display_url': 'economist.com/graphic-detail…', 'indices': [69, 92]}]}, metadata={'iso_language_code': 'en', 'result_type': 'recent'}, source='Twitter for Android', source_url='http://twitter.com/download/android', in_reply_to_status_id=None, in_reply_to_status_id_str=None, in_reply_to_user_id=None, in_reply_to_user_id_str=None, in_reply_to_screen_name=None, author=User(_api=<tweepy.api.API object at 0x0000020D0115BBE0>, _json={'id': 621064274, 'id_str': '621064274', 'name': 'Dr Agnes Soucat', 'screen_name': 'asoucat', 'location': 'Paris, France', 'description': 'MD, MPH, PhD Health Economics, Health Systems, Governance, Financing\\n\\nsoucata@afd.fr\\n\\nPassionate about equity, freedom, human rights. RT not endorsement', 'url': None, 'entities': {'description': {'urls': []}}, 'protected': False, 'followers_count': 8083, 'friends_count': 2698, 'listed_count': 153, 'created_at': 'Thu Jun 28 15:13:37 +0000 2012', 'favourites_count': 1391, 'utc_offset': None, 'time_zone': None, 'geo_enabled': True, 'verified': True, 'statuses_count': 34953, 'lang': None, 'contributors_enabled': False, 'is_translator': False, 'is_translation_enabled': False, 'profile_background_color': 'C0DEED', 'profile_background_image_url': 'http://abs.twimg.com/images/themes/theme1/bg.png', 'profile_background_image_url_https': 'https://abs.twimg.com/images/themes/theme1/bg.png', 'profile_background_tile': False, 'profile_image_url': 'http://pbs.twimg.com/profile_images/1404523804878049280/4bQ47Amx_normal.jpg', 'profile_image_url_https': 'https://pbs.twimg.com/profile_images/1404523804878049280/4bQ47Amx_normal.jpg', 'profile_banner_url': 'https://pbs.twimg.com/profile_banners/621064274/1449718953', 'profile_link_color': '1DA1F2', 'profile_sidebar_border_color': 'C0DEED', 'profile_sidebar_fill_color': 'DDEEF6', 'profile_text_color': '333333', 'profile_use_background_image': True, 'has_extended_profile': True, 'default_profile': True, 'default_profile_image': False, 'following': False, 'follow_request_sent': False, 'notifications': False, 'translator_type': 'none', 'withheld_in_countries': []}, id=621064274, id_str='621064274', name='Dr Agnes Soucat', screen_name='asoucat', location='Paris, France', description='MD, MPH, PhD Health Economics, Health Systems, Governance, Financing\\n\\nsoucata@afd.fr\\n\\nPassionate about equity, freedom, human rights. RT not endorsement', url=None, entities={'description': {'urls': []}}, protected=False, followers_count=8083, friends_count=2698, listed_count=153, created_at=datetime.datetime(2012, 6, 28, 15, 13, 37, tzinfo=datetime.timezone.utc), favourites_count=1391, utc_offset=None, time_zone=None, geo_enabled=True, verified=True, statuses_count=34953, lang=None, contributors_enabled=False, is_translator=False, is_translation_enabled=False, profile_background_color='C0DEED', profile_background_image_url='http://abs.twimg.com/images/themes/theme1/bg.png', profile_background_image_url_https='https://abs.twimg.com/images/themes/theme1/bg.png', profile_background_tile=False, profile_image_url='http://pbs.twimg.com/profile_images/1404523804878049280/4bQ47Amx_normal.jpg', profile_image_url_https='https://pbs.twimg.com/profile_images/1404523804878049280/4bQ47Amx_normal.jpg', profile_banner_url='https://pbs.twimg.com/profile_banners/621064274/1449718953', profile_link_color='1DA1F2', profile_sidebar_border_color='C0DEED', profile_sidebar_fill_color='DDEEF6', profile_text_color='333333', profile_use_background_image=True, has_extended_profile=True, default_profile=True, default_profile_image=False, following=False, follow_request_sent=False, notifications=False, translator_type='none', withheld_in_countries=[]), user=User(_api=<tweepy.api.API object at 0x0000020D0115BBE0>, _json={'id': 621064274, 'id_str': '621064274', 'name': 'Dr Agnes Soucat', 'screen_name': 'asoucat', 'location': 'Paris, France', 'description': 'MD, MPH, PhD Health Economics, Health Systems, Governance, Financing\\n\\nsoucata@afd.fr\\n\\nPassionate about equity, freedom, human rights. RT not endorsement', 'url': None, 'entities': {'description': {'urls': []}}, 'protected': False, 'followers_count': 8083, 'friends_count': 2698, 'listed_count': 153, 'created_at': 'Thu Jun 28 15:13:37 +0000 2012', 'favourites_count': 1391, 'utc_offset': None, 'time_zone': None, 'geo_enabled': True, 'verified': True, 'statuses_count': 34953, 'lang': None, 'contributors_enabled': False, 'is_translator': False, 'is_translation_enabled': False, 'profile_background_color': 'C0DEED', 'profile_background_image_url': 'http://abs.twimg.com/images/themes/theme1/bg.png', 'profile_background_image_url_https': 'https://abs.twimg.com/images/themes/theme1/bg.png', 'profile_background_tile': False, 'profile_image_url': 'http://pbs.twimg.com/profile_images/1404523804878049280/4bQ47Amx_normal.jpg', 'profile_image_url_https': 'https://pbs.twimg.com/profile_images/1404523804878049280/4bQ47Amx_normal.jpg', 'profile_banner_url': 'https://pbs.twimg.com/profile_banners/621064274/1449718953', 'profile_link_color': '1DA1F2', 'profile_sidebar_border_color': 'C0DEED', 'profile_sidebar_fill_color': 'DDEEF6', 'profile_text_color': '333333', 'profile_use_background_image': True, 'has_extended_profile': True, 'default_profile': True, 'default_profile_image': False, 'following': False, 'follow_request_sent': False, 'notifications': False, 'translator_type': 'none', 'withheld_in_countries': []}, id=621064274, id_str='621064274', name='Dr Agnes Soucat', screen_name='asoucat', location='Paris, France', description='MD, MPH, PhD Health Economics, Health Systems, Governance, Financing\\n\\nsoucata@afd.fr\\n\\nPassionate about equity, freedom, human rights. RT not endorsement', url=None, entities={'description': {'urls': []}}, protected=False, followers_count=8083, friends_count=2698, listed_count=153, created_at=datetime.datetime(2012, 6, 28, 15, 13, 37, tzinfo=datetime.timezone.utc), favourites_count=1391, utc_offset=None, time_zone=None, geo_enabled=True, verified=True, statuses_count=34953, lang=None, contributors_enabled=False, is_translator=False, is_translation_enabled=False, profile_background_color='C0DEED', profile_background_image_url='http://abs.twimg.com/images/themes/theme1/bg.png', profile_background_image_url_https='https://abs.twimg.com/images/themes/theme1/bg.png', profile_background_tile=False, profile_image_url='http://pbs.twimg.com/profile_images/1404523804878049280/4bQ47Amx_normal.jpg', profile_image_url_https='https://pbs.twimg.com/profile_images/1404523804878049280/4bQ47Amx_normal.jpg', profile_banner_url='https://pbs.twimg.com/profile_banners/621064274/1449718953', profile_link_color='1DA1F2', profile_sidebar_border_color='C0DEED', profile_sidebar_fill_color='DDEEF6', profile_text_color='333333', profile_use_background_image=True, has_extended_profile=True, default_profile=True, default_profile_image=False, following=False, follow_request_sent=False, notifications=False, translator_type='none', withheld_in_countries=[]), geo=None, coordinates=None, place=None, contributors=None, is_quote_status=False, retweet_count=0, favorite_count=0, favorited=False, retweeted=False, possibly_sensitive=False, lang='en')\n",
      "===================================================================================\n"
     ]
    }
   ],
   "source": [
    "#providing query which i need to search'\n",
    "\n",
    "query = \"COVID-19\"\n",
    "\n",
    "#fetch tweets\n",
    "\n",
    "Tweets = api.search_tweets(query , count = 10 , lang = 'en' , exclude = 'retweets' , tweet_mode = 'extended')\n",
    "\n",
    "for tweet in Tweets:\n",
    "    print(tweet)\n",
    "    print('===================================================================================')"
   ]
  },
  {
   "cell_type": "markdown",
   "id": "a2337fc9",
   "metadata": {},
   "source": [
    "# Gettting the tweets and some of its related attributes"
   ]
  },
  {
   "cell_type": "code",
   "execution_count": 7,
   "id": "f52fd7ff",
   "metadata": {},
   "outputs": [
    {
     "data": {
      "text/html": [
       "<div>\n",
       "<style scoped>\n",
       "    .dataframe tbody tr th:only-of-type {\n",
       "        vertical-align: middle;\n",
       "    }\n",
       "\n",
       "    .dataframe tbody tr th {\n",
       "        vertical-align: top;\n",
       "    }\n",
       "\n",
       "    .dataframe thead th {\n",
       "        text-align: right;\n",
       "    }\n",
       "</style>\n",
       "<table border=\"1\" class=\"dataframe\">\n",
       "  <thead>\n",
       "    <tr style=\"text-align: right;\">\n",
       "      <th></th>\n",
       "      <th>Tweets</th>\n",
       "      <th>User</th>\n",
       "      <th>User_statuses_count</th>\n",
       "      <th>user_followers</th>\n",
       "      <th>user_location</th>\n",
       "      <th>user_verified</th>\n",
       "      <th>fav_count</th>\n",
       "      <th>retweet_count</th>\n",
       "      <th>tweet_date</th>\n",
       "    </tr>\n",
       "  </thead>\n",
       "  <tbody>\n",
       "  </tbody>\n",
       "</table>\n",
       "</div>"
      ],
      "text/plain": [
       "Empty DataFrame\n",
       "Columns: [Tweets, User, User_statuses_count, user_followers, user_location, user_verified, fav_count, retweet_count, tweet_date]\n",
       "Index: []"
      ]
     },
     "execution_count": 7,
     "metadata": {},
     "output_type": "execute_result"
    }
   ],
   "source": [
    "df = pd.DataFrame(columns= ['Tweets','User','User_statuses_count','user_followers','user_location','user_verified','fav_count'\n",
    "                            ,'retweet_count','tweet_date'])\n",
    "df"
   ]
  },
  {
   "cell_type": "code",
   "execution_count": 8,
   "id": "1b139bd8",
   "metadata": {},
   "outputs": [],
   "source": [
    "def stream(data,file_name):\n",
    "    i=0\n",
    "    for tweet in tweepy.Cursor(api.search_tweets, q=data,count = 100 , lang='en').items():\n",
    "        print(i,end='\\r')\n",
    "        df.loc[i , 'Tweets'] = tweet.text\n",
    "        df.loc[i , 'User'] = tweet.user.name\n",
    "        df.loc[i , 'User_statuses_count'] = tweet.user.statuses_count\n",
    "        df.loc[i , 'user_followers'] = tweet.user.followers_count\n",
    "        df.loc[i , 'user_location'] = tweet.user.location\n",
    "        df.loc[i , 'user_verified'] = tweet.user.verified\n",
    "        df.loc[i , 'fav_count'] = tweet.favorite_count\n",
    "        df.loc[i , 'retweet_count'] = tweet.retweet_count\n",
    "        df.loc[i , 'tweet_date'] = tweet.created_at\n",
    "        df['tweet_date'] = df['tweet_date'].apply(lambda a: pd.to_datetime(a).date())\n",
    "        df.to_excel('{}.xlsx'.format(file_name))\n",
    "        i=i+1\n",
    "        if i ==1000:\n",
    "            break\n",
    "        else:\n",
    "            pass\n",
    "    "
   ]
  },
  {
   "cell_type": "code",
   "execution_count": 10,
   "id": "22b97f8c",
   "metadata": {},
   "outputs": [
    {
     "name": "stdout",
     "output_type": "stream",
     "text": [
      "999\r"
     ]
    }
   ],
   "source": [
    "stream(data=[\"COVID-19\"],file_name='my_tweets')\n"
   ]
  },
  {
   "cell_type": "code",
   "execution_count": 11,
   "id": "0c00a2ff",
   "metadata": {},
   "outputs": [
    {
     "data": {
      "text/html": [
       "<div>\n",
       "<style scoped>\n",
       "    .dataframe tbody tr th:only-of-type {\n",
       "        vertical-align: middle;\n",
       "    }\n",
       "\n",
       "    .dataframe tbody tr th {\n",
       "        vertical-align: top;\n",
       "    }\n",
       "\n",
       "    .dataframe thead th {\n",
       "        text-align: right;\n",
       "    }\n",
       "</style>\n",
       "<table border=\"1\" class=\"dataframe\">\n",
       "  <thead>\n",
       "    <tr style=\"text-align: right;\">\n",
       "      <th></th>\n",
       "      <th>Tweets</th>\n",
       "      <th>User</th>\n",
       "      <th>User_statuses_count</th>\n",
       "      <th>user_followers</th>\n",
       "      <th>user_location</th>\n",
       "      <th>user_verified</th>\n",
       "      <th>fav_count</th>\n",
       "      <th>retweet_count</th>\n",
       "      <th>tweet_date</th>\n",
       "    </tr>\n",
       "  </thead>\n",
       "  <tbody>\n",
       "    <tr>\n",
       "      <th>0</th>\n",
       "      <td>RT @AP: Bill Gates, concerned about the \"signi...</td>\n",
       "      <td>Rev. Isaac \"Workers United\" Collins</td>\n",
       "      <td>605</td>\n",
       "      <td>92</td>\n",
       "      <td></td>\n",
       "      <td>False</td>\n",
       "      <td>0</td>\n",
       "      <td>90</td>\n",
       "      <td>2022-07-14</td>\n",
       "    </tr>\n",
       "    <tr>\n",
       "      <th>1</th>\n",
       "      <td>RT @drcmday: I am a doctor on the frontline in...</td>\n",
       "      <td>Jocky</td>\n",
       "      <td>1882</td>\n",
       "      <td>45</td>\n",
       "      <td></td>\n",
       "      <td>False</td>\n",
       "      <td>0</td>\n",
       "      <td>2152</td>\n",
       "      <td>2022-07-14</td>\n",
       "    </tr>\n",
       "    <tr>\n",
       "      <th>2</th>\n",
       "      <td>RT @Togetherdec: Parliament is going to debate...</td>\n",
       "      <td>Stephan Hollemans</td>\n",
       "      <td>215848</td>\n",
       "      <td>842</td>\n",
       "      <td>The Hague, The Netherlands</td>\n",
       "      <td>False</td>\n",
       "      <td>0</td>\n",
       "      <td>135</td>\n",
       "      <td>2022-07-14</td>\n",
       "    </tr>\n",
       "    <tr>\n",
       "      <th>3</th>\n",
       "      <td>OSDH: 10,309 More COVID-19 Cases Reported Stat...</td>\n",
       "      <td>News 9</td>\n",
       "      <td>153801</td>\n",
       "      <td>203516</td>\n",
       "      <td>Oklahoma City</td>\n",
       "      <td>True</td>\n",
       "      <td>0</td>\n",
       "      <td>0</td>\n",
       "      <td>2022-07-14</td>\n",
       "    </tr>\n",
       "    <tr>\n",
       "      <th>4</th>\n",
       "      <td>RT @CiplaUganda: general health checkups inclu...</td>\n",
       "      <td>Mulungi Faith Liam</td>\n",
       "      <td>403967</td>\n",
       "      <td>22934</td>\n",
       "      <td>Kampala,Uganda</td>\n",
       "      <td>False</td>\n",
       "      <td>0</td>\n",
       "      <td>5</td>\n",
       "      <td>2022-07-14</td>\n",
       "    </tr>\n",
       "  </tbody>\n",
       "</table>\n",
       "</div>"
      ],
      "text/plain": [
       "                                              Tweets  \\\n",
       "0  RT @AP: Bill Gates, concerned about the \"signi...   \n",
       "1  RT @drcmday: I am a doctor on the frontline in...   \n",
       "2  RT @Togetherdec: Parliament is going to debate...   \n",
       "3  OSDH: 10,309 More COVID-19 Cases Reported Stat...   \n",
       "4  RT @CiplaUganda: general health checkups inclu...   \n",
       "\n",
       "                                  User User_statuses_count user_followers  \\\n",
       "0  Rev. Isaac \"Workers United\" Collins                 605             92   \n",
       "1                                Jocky                1882             45   \n",
       "2                    Stephan Hollemans              215848            842   \n",
       "3                               News 9              153801         203516   \n",
       "4                   Mulungi Faith Liam              403967          22934   \n",
       "\n",
       "                user_location user_verified fav_count retweet_count  \\\n",
       "0                                     False         0            90   \n",
       "1                                     False         0          2152   \n",
       "2  The Hague, The Netherlands         False         0           135   \n",
       "3               Oklahoma City          True         0             0   \n",
       "4              Kampala,Uganda         False         0             5   \n",
       "\n",
       "   tweet_date  \n",
       "0  2022-07-14  \n",
       "1  2022-07-14  \n",
       "2  2022-07-14  \n",
       "3  2022-07-14  \n",
       "4  2022-07-14  "
      ]
     },
     "execution_count": 11,
     "metadata": {},
     "output_type": "execute_result"
    }
   ],
   "source": [
    "df.head()"
   ]
  },
  {
   "cell_type": "code",
   "execution_count": 12,
   "id": "c8881f84",
   "metadata": {},
   "outputs": [
    {
     "data": {
      "text/plain": [
       "(1000, 9)"
      ]
     },
     "execution_count": 12,
     "metadata": {},
     "output_type": "execute_result"
    }
   ],
   "source": [
    "df.shape"
   ]
  },
  {
   "cell_type": "code",
   "execution_count": 13,
   "id": "5ef87049",
   "metadata": {},
   "outputs": [],
   "source": [
    "from textblob import TextBlob"
   ]
  },
  {
   "cell_type": "code",
   "execution_count": 14,
   "id": "9c160da3",
   "metadata": {},
   "outputs": [],
   "source": [
    "#Textblob has built in sentiment property\n",
    "\n",
    "#Sentiment(polarity,subjectivity)\n",
    "\n",
    "#polarity:It is a float score within the range [-1,1]\n",
    "#subjectivity:it is a float value in the range [0,1] where 0 means very objective and 1 means very subjective.\n"
   ]
  },
  {
   "cell_type": "code",
   "execution_count": 16,
   "id": "cb8fdbfc",
   "metadata": {},
   "outputs": [],
   "source": [
    "import re\n",
    "def clean_tweet(tweet):\n",
    "    return ' '.join(re.sub('(@[A-Za-z0-9]+)|([^0-9A-Za-z \\t])|(\\w+:\\/\\/\\S+)', ' ', tweet).split())"
   ]
  },
  {
   "cell_type": "code",
   "execution_count": 17,
   "id": "b24c8d77",
   "metadata": {},
   "outputs": [],
   "source": [
    "def analyze_sentiment(tweet):\n",
    "    analysis = TextBlob(tweet)\n",
    "    if analysis.sentiment.polarity>0:\n",
    "        return \"Positive\"\n",
    "    elif analysis.sentiment.polarity==0:\n",
    "        return \"Neutral\"\n",
    "    else:\n",
    "        return \"Negative\""
   ]
  },
  {
   "cell_type": "code",
   "execution_count": 18,
   "id": "aec92033",
   "metadata": {},
   "outputs": [
    {
     "data": {
      "text/html": [
       "<div>\n",
       "<style scoped>\n",
       "    .dataframe tbody tr th:only-of-type {\n",
       "        vertical-align: middle;\n",
       "    }\n",
       "\n",
       "    .dataframe tbody tr th {\n",
       "        vertical-align: top;\n",
       "    }\n",
       "\n",
       "    .dataframe thead th {\n",
       "        text-align: right;\n",
       "    }\n",
       "</style>\n",
       "<table border=\"1\" class=\"dataframe\">\n",
       "  <thead>\n",
       "    <tr style=\"text-align: right;\">\n",
       "      <th></th>\n",
       "      <th>Tweets</th>\n",
       "      <th>clean_tweet</th>\n",
       "    </tr>\n",
       "  </thead>\n",
       "  <tbody>\n",
       "    <tr>\n",
       "      <th>0</th>\n",
       "      <td>RT @AP: Bill Gates, concerned about the \"signi...</td>\n",
       "      <td>RT Bill Gates concerned about the significant ...</td>\n",
       "    </tr>\n",
       "    <tr>\n",
       "      <th>1</th>\n",
       "      <td>RT @drcmday: I am a doctor on the frontline in...</td>\n",
       "      <td>RT I am a doctor on the frontline in A amp E t...</td>\n",
       "    </tr>\n",
       "    <tr>\n",
       "      <th>2</th>\n",
       "      <td>RT @Togetherdec: Parliament is going to debate...</td>\n",
       "      <td>RT Parliament is going to debate the petition ...</td>\n",
       "    </tr>\n",
       "    <tr>\n",
       "      <th>3</th>\n",
       "      <td>OSDH: 10,309 More COVID-19 Cases Reported Stat...</td>\n",
       "      <td>OSDH 10 309 More COVID 19 Cases Reported State...</td>\n",
       "    </tr>\n",
       "    <tr>\n",
       "      <th>4</th>\n",
       "      <td>RT @CiplaUganda: general health checkups inclu...</td>\n",
       "      <td>RT general health checkups including optical a...</td>\n",
       "    </tr>\n",
       "  </tbody>\n",
       "</table>\n",
       "</div>"
      ],
      "text/plain": [
       "                                              Tweets  \\\n",
       "0  RT @AP: Bill Gates, concerned about the \"signi...   \n",
       "1  RT @drcmday: I am a doctor on the frontline in...   \n",
       "2  RT @Togetherdec: Parliament is going to debate...   \n",
       "3  OSDH: 10,309 More COVID-19 Cases Reported Stat...   \n",
       "4  RT @CiplaUganda: general health checkups inclu...   \n",
       "\n",
       "                                         clean_tweet  \n",
       "0  RT Bill Gates concerned about the significant ...  \n",
       "1  RT I am a doctor on the frontline in A amp E t...  \n",
       "2  RT Parliament is going to debate the petition ...  \n",
       "3  OSDH 10 309 More COVID 19 Cases Reported State...  \n",
       "4  RT general health checkups including optical a...  "
      ]
     },
     "execution_count": 18,
     "metadata": {},
     "output_type": "execute_result"
    }
   ],
   "source": [
    "df['clean_tweet'] = df[\"Tweets\"].apply(lambda x : clean_tweet(x))\n",
    "df[['Tweets','clean_tweet']].head()"
   ]
  },
  {
   "cell_type": "code",
   "execution_count": 19,
   "id": "f52e0bc9",
   "metadata": {},
   "outputs": [],
   "source": [
    "df[\"Sentiment\"] = df['clean_tweet'].apply(lambda x : analyze_sentiment(x))"
   ]
  },
  {
   "cell_type": "code",
   "execution_count": 20,
   "id": "646c970f",
   "metadata": {},
   "outputs": [
    {
     "data": {
      "text/html": [
       "<div>\n",
       "<style scoped>\n",
       "    .dataframe tbody tr th:only-of-type {\n",
       "        vertical-align: middle;\n",
       "    }\n",
       "\n",
       "    .dataframe tbody tr th {\n",
       "        vertical-align: top;\n",
       "    }\n",
       "\n",
       "    .dataframe thead th {\n",
       "        text-align: right;\n",
       "    }\n",
       "</style>\n",
       "<table border=\"1\" class=\"dataframe\">\n",
       "  <thead>\n",
       "    <tr style=\"text-align: right;\">\n",
       "      <th></th>\n",
       "      <th>clean_tweet</th>\n",
       "      <th>Sentiment</th>\n",
       "    </tr>\n",
       "  </thead>\n",
       "  <tbody>\n",
       "    <tr>\n",
       "      <th>0</th>\n",
       "      <td>RT Bill Gates concerned about the significant ...</td>\n",
       "      <td>Positive</td>\n",
       "    </tr>\n",
       "    <tr>\n",
       "      <th>1</th>\n",
       "      <td>RT I am a doctor on the frontline in A amp E t...</td>\n",
       "      <td>Negative</td>\n",
       "    </tr>\n",
       "    <tr>\n",
       "      <th>2</th>\n",
       "      <td>RT Parliament is going to debate the petition ...</td>\n",
       "      <td>Neutral</td>\n",
       "    </tr>\n",
       "    <tr>\n",
       "      <th>3</th>\n",
       "      <td>OSDH 10 309 More COVID 19 Cases Reported State...</td>\n",
       "      <td>Positive</td>\n",
       "    </tr>\n",
       "    <tr>\n",
       "      <th>4</th>\n",
       "      <td>RT general health checkups including optical a...</td>\n",
       "      <td>Positive</td>\n",
       "    </tr>\n",
       "  </tbody>\n",
       "</table>\n",
       "</div>"
      ],
      "text/plain": [
       "                                         clean_tweet Sentiment\n",
       "0  RT Bill Gates concerned about the significant ...  Positive\n",
       "1  RT I am a doctor on the frontline in A amp E t...  Negative\n",
       "2  RT Parliament is going to debate the petition ...   Neutral\n",
       "3  OSDH 10 309 More COVID 19 Cases Reported State...  Positive\n",
       "4  RT general health checkups including optical a...  Positive"
      ]
     },
     "execution_count": 20,
     "metadata": {},
     "output_type": "execute_result"
    }
   ],
   "source": [
    "df[['clean_tweet','Sentiment']].head()"
   ]
  },
  {
   "cell_type": "code",
   "execution_count": 21,
   "id": "1d9055ce",
   "metadata": {},
   "outputs": [
    {
     "name": "stdout",
     "output_type": "stream",
     "text": [
      "Original Tweet:\n",
      "Digital minister tests positive for COVID-19 on visit to the U.S. | The Asahi Shimbun: Breaking News, Japan News an… https://t.co/TgKlriMuwx\n",
      "\n",
      "Clean tweet:\n",
      "Digital minister tests positive for COVID 19 on visit to the U S The Asahi Shimbun Breaking News Japan News an\n",
      "\n",
      "Sentiment:\n",
      "Positive\n"
     ]
    }
   ],
   "source": [
    "n = 26\n",
    "print('Original Tweet:\\n'+df[\"Tweets\"][n])\n",
    "print()\n",
    "print('Clean tweet:\\n'+df['clean_tweet'][n])\n",
    "print()\n",
    "print(\"Sentiment:\\n\"+df['Sentiment'][n])"
   ]
  },
  {
   "cell_type": "code",
   "execution_count": 22,
   "id": "f4f713d3",
   "metadata": {},
   "outputs": [
    {
     "name": "stdout",
     "output_type": "stream",
     "text": [
      "Original Tweet:\n",
      "Bernadette Mazurek Melnyk, PhD, in an exclusive interview with ICT, discusses how facilities and IPs themselves can… https://t.co/AeLMVzqLwp\n",
      "\n",
      "Clean tweet:\n",
      "Bernadette Mazurek Melnyk PhD in an exclusive interview with ICT discusses how facilities and IPs themselves can\n",
      "\n",
      "Sentiment:\n",
      "Neutral\n"
     ]
    }
   ],
   "source": [
    "n = 88\n",
    "print('Original Tweet:\\n'+df[\"Tweets\"][n])\n",
    "print()\n",
    "print('Clean tweet:\\n'+df['clean_tweet'][n])\n",
    "print()\n",
    "print(\"Sentiment:\\n\"+df['Sentiment'][n])"
   ]
  },
  {
   "cell_type": "code",
   "execution_count": 23,
   "id": "d0c4991a",
   "metadata": {},
   "outputs": [
    {
     "name": "stdout",
     "output_type": "stream",
     "text": [
      "Original Tweet:\n",
      "Fait In Action will be offering community assistance at a special event 10 a.m. to 3 p.m. on Saturday, July 16, at… https://t.co/C40JtjLgvC\n",
      "\n",
      "Clean tweet:\n",
      "Fait In Action will be offering community assistance at a special event 10 a m to 3 p m on Saturday July 16 at\n",
      "\n",
      "Sentiment:\n",
      "Positive\n"
     ]
    }
   ],
   "source": [
    "n = 33\n",
    "print('Original Tweet:\\n'+df[\"Tweets\"][n])\n",
    "print()\n",
    "print('Clean tweet:\\n'+df['clean_tweet'][n])\n",
    "print()\n",
    "print(\"Sentiment:\\n\"+df['Sentiment'][n])"
   ]
  },
  {
   "cell_type": "code",
   "execution_count": 30,
   "id": "90660f4b",
   "metadata": {},
   "outputs": [
    {
     "name": "stdout",
     "output_type": "stream",
     "text": [
      "Original Tweet:\n",
      "RT @irajulpandya: As part of #AzadiKaAmritMahotsav celebrations, free COVID-19 Precaution Dose will be administered to all the citizens abo…\n",
      "\n",
      "Clean tweet:\n",
      "RT As part of AzadiKaAmritMahotsav celebrations free COVID 19 Precaution Dose will be administered to all the citizens abo\n",
      "\n",
      "Sentiment:\n",
      "Positive\n"
     ]
    }
   ],
   "source": [
    "n = 70\n",
    "print('Original Tweet:\\n'+df[\"Tweets\"][n])\n",
    "print()\n",
    "print('Clean tweet:\\n'+df['clean_tweet'][n])\n",
    "print()\n",
    "print(\"Sentiment:\\n\"+df['Sentiment'][n])"
   ]
  },
  {
   "cell_type": "code",
   "execution_count": 31,
   "id": "3ab6f78b",
   "metadata": {},
   "outputs": [
    {
     "data": {
      "text/plain": [
       "385"
      ]
     },
     "execution_count": 31,
     "metadata": {},
     "output_type": "execute_result"
    }
   ],
   "source": [
    "df[df.Sentiment=='Positive'].shape[0]"
   ]
  },
  {
   "cell_type": "code",
   "execution_count": 32,
   "id": "321978bc",
   "metadata": {},
   "outputs": [
    {
     "data": {
      "text/plain": [
       "193"
      ]
     },
     "execution_count": 32,
     "metadata": {},
     "output_type": "execute_result"
    }
   ],
   "source": [
    "df[df.Sentiment=='Negative'].shape[0]"
   ]
  },
  {
   "cell_type": "code",
   "execution_count": 33,
   "id": "ec917d96",
   "metadata": {},
   "outputs": [
    {
     "data": {
      "text/plain": [
       "422"
      ]
     },
     "execution_count": 33,
     "metadata": {},
     "output_type": "execute_result"
    }
   ],
   "source": [
    "df[df.Sentiment=='Neutral'].shape[0]"
   ]
  },
  {
   "cell_type": "code",
   "execution_count": null,
   "id": "064f871a",
   "metadata": {},
   "outputs": [],
   "source": []
  }
 ],
 "metadata": {
  "kernelspec": {
   "display_name": "Python 3",
   "language": "python",
   "name": "python3"
  },
  "language_info": {
   "codemirror_mode": {
    "name": "ipython",
    "version": 3
   },
   "file_extension": ".py",
   "mimetype": "text/x-python",
   "name": "python",
   "nbconvert_exporter": "python",
   "pygments_lexer": "ipython3",
   "version": "3.8.8"
  }
 },
 "nbformat": 4,
 "nbformat_minor": 5
}
